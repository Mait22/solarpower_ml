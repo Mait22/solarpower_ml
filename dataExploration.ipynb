{
 "cells": [
  {
   "cell_type": "markdown",
   "id": "2ac9affa",
   "metadata": {},
   "source": [
    "# Notebook for estimating, which variables of weather data correlate with sun intensity"
   ]
  },
  {
   "cell_type": "markdown",
   "id": "9ceac535",
   "metadata": {},
   "source": [
    "# Load data from .xlsx file"
   ]
  },
  {
   "cell_type": "code",
   "execution_count": 1,
   "id": "adaf3c8c",
   "metadata": {},
   "outputs": [],
   "source": [
    "import pandas as pd\n",
    "import numpy as np\n",
    "import matplotlib.pyplot as plt\n",
    "import copy\n",
    "import datetime\n"
   ]
  },
  {
   "cell_type": "markdown",
   "id": "46aaf642",
   "metadata": {},
   "source": [
    "## Solar intensity data"
   ]
  },
  {
   "cell_type": "code",
   "execution_count": 2,
   "id": "a74830e8",
   "metadata": {},
   "outputs": [],
   "source": [
    "#Load initial data\n",
    "hourly_sun_intensity = pd.read_excel('2-10_21_524-2 Andmed.xlsx', sheet_name = 'tunni sum.kiirgus', header = 1)"
   ]
  },
  {
   "cell_type": "code",
   "execution_count": 3,
   "id": "f1e3afa5",
   "metadata": {},
   "outputs": [
    {
     "data": {
      "text/html": [
       "<div>\n",
       "<style scoped>\n",
       "    .dataframe tbody tr th:only-of-type {\n",
       "        vertical-align: middle;\n",
       "    }\n",
       "\n",
       "    .dataframe tbody tr th {\n",
       "        vertical-align: top;\n",
       "    }\n",
       "\n",
       "    .dataframe thead th {\n",
       "        text-align: right;\n",
       "    }\n",
       "</style>\n",
       "<table border=\"1\" class=\"dataframe\">\n",
       "  <thead>\n",
       "    <tr style=\"text-align: right;\">\n",
       "      <th></th>\n",
       "      <th>Aasta</th>\n",
       "      <th>Kuu</th>\n",
       "      <th>Päaev</th>\n",
       "      <th>Kell (UTC)</th>\n",
       "      <th>Haapsalu summaarne kiirgus, W/m²</th>\n",
       "      <th>Tallinn-Harku summaarne kiirgus, W/m²</th>\n",
       "      <th>Narva summaarne kiirgus, W/m²</th>\n",
       "      <th>Narva-Jõesuu summaarne kiirgus, W/m²</th>\n",
       "      <th>Pärnu summaarne kiirgus, W/m²</th>\n",
       "      <th>Pärnu-Sauga summaarne kiirgus, W/m²</th>\n",
       "      <th>Roomassaare summaarne kiirgus, W/m²</th>\n",
       "      <th>Tartu-Tõravere summaarne kiirgus, W/m²</th>\n",
       "      <th>Tiirikoja summaarne kiirgus, W/m²</th>\n",
       "      <th>Vilsandi summaarne kiirgus, W/m²</th>\n",
       "    </tr>\n",
       "  </thead>\n",
       "  <tbody>\n",
       "    <tr>\n",
       "      <th>0</th>\n",
       "      <td>2010</td>\n",
       "      <td>1</td>\n",
       "      <td>1</td>\n",
       "      <td>00:00:00</td>\n",
       "      <td>NaN</td>\n",
       "      <td>0</td>\n",
       "      <td>NaN</td>\n",
       "      <td>0.0</td>\n",
       "      <td>NaN</td>\n",
       "      <td>0.0</td>\n",
       "      <td>0.0</td>\n",
       "      <td>0</td>\n",
       "      <td>0.0</td>\n",
       "      <td>0.0</td>\n",
       "    </tr>\n",
       "    <tr>\n",
       "      <th>1</th>\n",
       "      <td>2010</td>\n",
       "      <td>1</td>\n",
       "      <td>1</td>\n",
       "      <td>01:00:00</td>\n",
       "      <td>NaN</td>\n",
       "      <td>0</td>\n",
       "      <td>NaN</td>\n",
       "      <td>1.0</td>\n",
       "      <td>NaN</td>\n",
       "      <td>1.0</td>\n",
       "      <td>0.0</td>\n",
       "      <td>0</td>\n",
       "      <td>0.0</td>\n",
       "      <td>0.0</td>\n",
       "    </tr>\n",
       "    <tr>\n",
       "      <th>2</th>\n",
       "      <td>2010</td>\n",
       "      <td>1</td>\n",
       "      <td>1</td>\n",
       "      <td>02:00:00</td>\n",
       "      <td>NaN</td>\n",
       "      <td>0</td>\n",
       "      <td>NaN</td>\n",
       "      <td>0.0</td>\n",
       "      <td>NaN</td>\n",
       "      <td>1.0</td>\n",
       "      <td>0.0</td>\n",
       "      <td>0</td>\n",
       "      <td>0.0</td>\n",
       "      <td>0.0</td>\n",
       "    </tr>\n",
       "    <tr>\n",
       "      <th>3</th>\n",
       "      <td>2010</td>\n",
       "      <td>1</td>\n",
       "      <td>1</td>\n",
       "      <td>03:00:00</td>\n",
       "      <td>NaN</td>\n",
       "      <td>0</td>\n",
       "      <td>NaN</td>\n",
       "      <td>0.0</td>\n",
       "      <td>NaN</td>\n",
       "      <td>1.0</td>\n",
       "      <td>0.0</td>\n",
       "      <td>0</td>\n",
       "      <td>0.0</td>\n",
       "      <td>0.0</td>\n",
       "    </tr>\n",
       "    <tr>\n",
       "      <th>4</th>\n",
       "      <td>2010</td>\n",
       "      <td>1</td>\n",
       "      <td>1</td>\n",
       "      <td>04:00:00</td>\n",
       "      <td>NaN</td>\n",
       "      <td>0</td>\n",
       "      <td>NaN</td>\n",
       "      <td>0.0</td>\n",
       "      <td>NaN</td>\n",
       "      <td>0.0</td>\n",
       "      <td>0.0</td>\n",
       "      <td>0</td>\n",
       "      <td>0.0</td>\n",
       "      <td>0.0</td>\n",
       "    </tr>\n",
       "  </tbody>\n",
       "</table>\n",
       "</div>"
      ],
      "text/plain": [
       "   Aasta  Kuu  Päaev Kell (UTC)  Haapsalu summaarne kiirgus, W/m²  \\\n",
       "0   2010    1      1   00:00:00                               NaN   \n",
       "1   2010    1      1   01:00:00                               NaN   \n",
       "2   2010    1      1   02:00:00                               NaN   \n",
       "3   2010    1      1   03:00:00                               NaN   \n",
       "4   2010    1      1   04:00:00                               NaN   \n",
       "\n",
       "   Tallinn-Harku summaarne kiirgus, W/m²  Narva summaarne kiirgus, W/m²  \\\n",
       "0                                      0                            NaN   \n",
       "1                                      0                            NaN   \n",
       "2                                      0                            NaN   \n",
       "3                                      0                            NaN   \n",
       "4                                      0                            NaN   \n",
       "\n",
       "   Narva-Jõesuu summaarne kiirgus, W/m²  Pärnu summaarne kiirgus, W/m²  \\\n",
       "0                                   0.0                            NaN   \n",
       "1                                   1.0                            NaN   \n",
       "2                                   0.0                            NaN   \n",
       "3                                   0.0                            NaN   \n",
       "4                                   0.0                            NaN   \n",
       "\n",
       "   Pärnu-Sauga summaarne kiirgus, W/m²  Roomassaare summaarne kiirgus, W/m²  \\\n",
       "0                                  0.0                                  0.0   \n",
       "1                                  1.0                                  0.0   \n",
       "2                                  1.0                                  0.0   \n",
       "3                                  1.0                                  0.0   \n",
       "4                                  0.0                                  0.0   \n",
       "\n",
       "   Tartu-Tõravere summaarne kiirgus, W/m²  Tiirikoja summaarne kiirgus, W/m²  \\\n",
       "0                                       0                                0.0   \n",
       "1                                       0                                0.0   \n",
       "2                                       0                                0.0   \n",
       "3                                       0                                0.0   \n",
       "4                                       0                                0.0   \n",
       "\n",
       "   Vilsandi summaarne kiirgus, W/m²  \n",
       "0                               0.0  \n",
       "1                               0.0  \n",
       "2                               0.0  \n",
       "3                               0.0  \n",
       "4                               0.0  "
      ]
     },
     "execution_count": 3,
     "metadata": {},
     "output_type": "execute_result"
    }
   ],
   "source": [
    "hourly_sun_intensity.head()"
   ]
  },
  {
   "cell_type": "code",
   "execution_count": 4,
   "id": "6510b717",
   "metadata": {},
   "outputs": [],
   "source": [
    "#Update column names by shortening them and converting to English\n",
    "newColumnNames = dict()\n",
    "newColumnNames[\"Aasta\"] = \"y\"\n",
    "newColumnNames[\"Kuu\"] = \"m\"\n",
    "newColumnNames[\"Päaev\"] = \"d\"\n",
    "newColumnNames[\"Kell (UTC)\"] = \"time\"\n",
    "for columnName in hourly_sun_intensity.columns:\n",
    "    if \"kiirgus\" in columnName:\n",
    "        newColumnNames[columnName] = \"solar_\"+columnName.replace(\" summaarne kiirgus, W/m²\", \"\")\n",
    "#newColumnNames = [\"y\", \"m\", \"d\", \"time\"]+[\"solar_\"+columnName.replace(\" summaarne kiirgus, W/m²\", \"\") for columnName in hourly_sun_intensity.columns if \"kiirgus\" in columnName]\n",
    "hourly_sun_intensity = hourly_sun_intensity.rename(columns=newColumnNames)\n",
    "#hourly_sun_intensity.columns = newColumnNames"
   ]
  },
  {
   "cell_type": "code",
   "execution_count": 5,
   "id": "120cd39c",
   "metadata": {},
   "outputs": [
    {
     "data": {
      "text/html": [
       "<div>\n",
       "<style scoped>\n",
       "    .dataframe tbody tr th:only-of-type {\n",
       "        vertical-align: middle;\n",
       "    }\n",
       "\n",
       "    .dataframe tbody tr th {\n",
       "        vertical-align: top;\n",
       "    }\n",
       "\n",
       "    .dataframe thead th {\n",
       "        text-align: right;\n",
       "    }\n",
       "</style>\n",
       "<table border=\"1\" class=\"dataframe\">\n",
       "  <thead>\n",
       "    <tr style=\"text-align: right;\">\n",
       "      <th></th>\n",
       "      <th>y</th>\n",
       "      <th>m</th>\n",
       "      <th>d</th>\n",
       "      <th>time</th>\n",
       "      <th>solar_Haapsalu</th>\n",
       "      <th>solar_Tallinn-Harku</th>\n",
       "      <th>solar_Narva</th>\n",
       "      <th>solar_Narva-Jõesuu</th>\n",
       "      <th>solar_Pärnu</th>\n",
       "      <th>solar_Pärnu-Sauga</th>\n",
       "      <th>solar_Roomassaare</th>\n",
       "      <th>solar_Tartu-Tõravere</th>\n",
       "      <th>solar_Tiirikoja</th>\n",
       "      <th>solar_Vilsandi</th>\n",
       "    </tr>\n",
       "  </thead>\n",
       "  <tbody>\n",
       "    <tr>\n",
       "      <th>0</th>\n",
       "      <td>2010</td>\n",
       "      <td>1</td>\n",
       "      <td>1</td>\n",
       "      <td>00:00:00</td>\n",
       "      <td>NaN</td>\n",
       "      <td>0</td>\n",
       "      <td>NaN</td>\n",
       "      <td>0.0</td>\n",
       "      <td>NaN</td>\n",
       "      <td>0.0</td>\n",
       "      <td>0.0</td>\n",
       "      <td>0</td>\n",
       "      <td>0.0</td>\n",
       "      <td>0.0</td>\n",
       "    </tr>\n",
       "    <tr>\n",
       "      <th>1</th>\n",
       "      <td>2010</td>\n",
       "      <td>1</td>\n",
       "      <td>1</td>\n",
       "      <td>01:00:00</td>\n",
       "      <td>NaN</td>\n",
       "      <td>0</td>\n",
       "      <td>NaN</td>\n",
       "      <td>1.0</td>\n",
       "      <td>NaN</td>\n",
       "      <td>1.0</td>\n",
       "      <td>0.0</td>\n",
       "      <td>0</td>\n",
       "      <td>0.0</td>\n",
       "      <td>0.0</td>\n",
       "    </tr>\n",
       "    <tr>\n",
       "      <th>2</th>\n",
       "      <td>2010</td>\n",
       "      <td>1</td>\n",
       "      <td>1</td>\n",
       "      <td>02:00:00</td>\n",
       "      <td>NaN</td>\n",
       "      <td>0</td>\n",
       "      <td>NaN</td>\n",
       "      <td>0.0</td>\n",
       "      <td>NaN</td>\n",
       "      <td>1.0</td>\n",
       "      <td>0.0</td>\n",
       "      <td>0</td>\n",
       "      <td>0.0</td>\n",
       "      <td>0.0</td>\n",
       "    </tr>\n",
       "    <tr>\n",
       "      <th>3</th>\n",
       "      <td>2010</td>\n",
       "      <td>1</td>\n",
       "      <td>1</td>\n",
       "      <td>03:00:00</td>\n",
       "      <td>NaN</td>\n",
       "      <td>0</td>\n",
       "      <td>NaN</td>\n",
       "      <td>0.0</td>\n",
       "      <td>NaN</td>\n",
       "      <td>1.0</td>\n",
       "      <td>0.0</td>\n",
       "      <td>0</td>\n",
       "      <td>0.0</td>\n",
       "      <td>0.0</td>\n",
       "    </tr>\n",
       "    <tr>\n",
       "      <th>4</th>\n",
       "      <td>2010</td>\n",
       "      <td>1</td>\n",
       "      <td>1</td>\n",
       "      <td>04:00:00</td>\n",
       "      <td>NaN</td>\n",
       "      <td>0</td>\n",
       "      <td>NaN</td>\n",
       "      <td>0.0</td>\n",
       "      <td>NaN</td>\n",
       "      <td>0.0</td>\n",
       "      <td>0.0</td>\n",
       "      <td>0</td>\n",
       "      <td>0.0</td>\n",
       "      <td>0.0</td>\n",
       "    </tr>\n",
       "  </tbody>\n",
       "</table>\n",
       "</div>"
      ],
      "text/plain": [
       "      y  m  d      time  solar_Haapsalu  solar_Tallinn-Harku  solar_Narva  \\\n",
       "0  2010  1  1  00:00:00             NaN                    0          NaN   \n",
       "1  2010  1  1  01:00:00             NaN                    0          NaN   \n",
       "2  2010  1  1  02:00:00             NaN                    0          NaN   \n",
       "3  2010  1  1  03:00:00             NaN                    0          NaN   \n",
       "4  2010  1  1  04:00:00             NaN                    0          NaN   \n",
       "\n",
       "   solar_Narva-Jõesuu  solar_Pärnu  solar_Pärnu-Sauga  solar_Roomassaare  \\\n",
       "0                 0.0          NaN                0.0                0.0   \n",
       "1                 1.0          NaN                1.0                0.0   \n",
       "2                 0.0          NaN                1.0                0.0   \n",
       "3                 0.0          NaN                1.0                0.0   \n",
       "4                 0.0          NaN                0.0                0.0   \n",
       "\n",
       "   solar_Tartu-Tõravere  solar_Tiirikoja  solar_Vilsandi  \n",
       "0                     0              0.0             0.0  \n",
       "1                     0              0.0             0.0  \n",
       "2                     0              0.0             0.0  \n",
       "3                     0              0.0             0.0  \n",
       "4                     0              0.0             0.0  "
      ]
     },
     "execution_count": 5,
     "metadata": {},
     "output_type": "execute_result"
    }
   ],
   "source": [
    "hourly_sun_intensity.head()"
   ]
  },
  {
   "cell_type": "code",
   "execution_count": 6,
   "id": "9801d5a6",
   "metadata": {},
   "outputs": [],
   "source": [
    "# Some weather stations have changed locations over time, as the differences between their locations are rather small (less than 8 km)\n",
    "# We at first do not make separation between them\n",
    "\n",
    "def join_columns(c1, c2, nc, df, column_id): # Function for joining columns, where an area has two weather measuring points\n",
    "    data = []\n",
    "    cs = [c1, c2]\n",
    "    for i, rows in df[cs].iterrows():\n",
    "        if (pd.isna(rows[0]) == True) & (pd.isna(rows[1]) == False):\n",
    "            data.append(round(rows[1], 2))\n",
    "        elif (pd.isna(rows[0]) == False) & (pd.isna(rows[1]) == True):\n",
    "            data.append(round(rows[0], 2))\n",
    "        elif (pd.isna(rows[0]) == False) & (pd.isna(rows[1]) == False):\n",
    "            data.append(round(rows.mean(), 2))\n",
    "        elif (pd.isna(rows[0]) == True) & (pd.isna(rows[1]) == True):\n",
    "            data.append(rows[0])\n",
    "\n",
    "    df = df.drop(columns = [c1, c2])\n",
    "    df.insert(column_id, nc, data)\n",
    "    \n",
    "    return df"
   ]
  },
  {
   "cell_type": "code",
   "execution_count": 7,
   "id": "a3828445",
   "metadata": {},
   "outputs": [],
   "source": [
    "#Merge columns, which are due to weather station moving\n",
    "hourly_sun_intensity = join_columns('solar_Narva', 'solar_Narva-Jõesuu', 'solar_Narva', hourly_sun_intensity, 4)\n",
    "hourly_sun_intensity = join_columns('solar_Pärnu-Sauga', 'solar_Pärnu', 'solar_Pärnu', hourly_sun_intensity, 5)"
   ]
  },
  {
   "cell_type": "code",
   "execution_count": 8,
   "id": "fa679564",
   "metadata": {},
   "outputs": [],
   "source": [
    "#Drop rows where some value is missing\n",
    "hourly_sun_intensity = hourly_sun_intensity.dropna()\n",
    "#If value is -1 it corresponds to night, set it to 0\n",
    "hourly_sun_intensity = hourly_sun_intensity.replace(-1, 0)"
   ]
  },
  {
   "cell_type": "code",
   "execution_count": 9,
   "id": "1bb33fce",
   "metadata": {},
   "outputs": [],
   "source": [
    "#Shift the times -X minutes to facilitate predicting future solar intensity from existing\n",
    "def shiftDateTime(df, numberOfHours):\n",
    "    dateTimes = []\n",
    "    for i in range(len(df)):\n",
    "        row = df.iloc[i]\n",
    "        dateTimes+=[datetime.datetime.combine(datetime.date(row.y, row.m, row.d), row.time)+datetime.timedelta(hours=numberOfHours)]\n",
    "    df2 = copy.deepcopy(df)\n",
    "    df2[\"y\"] = [date.year for date in dateTimes]\n",
    "    df2[\"m\"] = [date.month for date in dateTimes]\n",
    "    df2[\"d\"] = [date.day for date in dateTimes]\n",
    "    df2[\"time\"] = [date.time() for date in dateTimes]\n",
    "    \n",
    "    return df2\n",
    "    \n",
    "    "
   ]
  },
  {
   "cell_type": "code",
   "execution_count": 10,
   "id": "edb6a713",
   "metadata": {},
   "outputs": [],
   "source": [
    "hourly_sun_intensity_Shifted = shiftDateTime(hourly_sun_intensity, -1)"
   ]
  },
  {
   "cell_type": "markdown",
   "id": "bc6ce2c1",
   "metadata": {},
   "source": [
    "## Data from different weather stations"
   ]
  },
  {
   "cell_type": "code",
   "execution_count": 11,
   "id": "81ef843d",
   "metadata": {},
   "outputs": [],
   "source": [
    "selectedColumns = [\"Aasta\", \"Kuu\", \"Päev\", \"Kell (UTC)\", \"Õhutemperatuur °C\", \"10 minuti keskmine tuule kiirus m/s\", \"Õhurõhk jaama kõrgusel hPa\", \"Suhteline õhuniiskus %\", \"10 minuti keskmine tuule suund\"]"
   ]
  },
  {
   "cell_type": "code",
   "execution_count": 12,
   "id": "ca19c1c9",
   "metadata": {},
   "outputs": [],
   "source": [
    "#Update column names by shortening them and converting to English\n",
    "\n",
    "def updateColumnNames(df, location):\n",
    "    newColumnNames = dict()\n",
    "    newColumnNames[\"Aasta\"] = \"y\"\n",
    "    newColumnNames[\"Kuu\"] = \"m\"\n",
    "    newColumnNames[\"Päev\"] = \"d\"\n",
    "    newColumnNames[\"Kell (UTC)\"] = \"time\"\n",
    "    newColumnNames[\"Õhutemperatuur °C\"] = f\"temp_{location}\"\n",
    "    newColumnNames[\"10 minuti keskmine tuule kiirus m/s\"] = f\"wind_speed_{location}\"\n",
    "    newColumnNames[\"Õhurõhk jaama kõrgusel hPa\"] = f\"pressure_{location}\"\n",
    "    newColumnNames[\"Suhteline õhuniiskus %\"] = f\"rel_humidity_{location}\"\n",
    "    newColumnNames[\"10 minuti keskmine tuule suund\"] = f\"wind_dir_{location}\"\n",
    "    df = df.rename(columns=newColumnNames)\n",
    "    return df"
   ]
  },
  {
   "cell_type": "code",
   "execution_count": 13,
   "id": "91e8a985",
   "metadata": {},
   "outputs": [],
   "source": [
    "def getFromXlsx(filename, columns, location):\n",
    "    #Load xlsx\n",
    "    df = pd.read_excel(filename, header = 1)\n",
    "    df = df[columns]\n",
    "    #Drop rows where data is missing\n",
    "    #df = df.dropna()\n",
    "    #Update column names for clarity\n",
    "    df = updateColumnNames(df, location)\n",
    "    return df"
   ]
  },
  {
   "cell_type": "code",
   "execution_count": 14,
   "id": "5c318afa",
   "metadata": {},
   "outputs": [],
   "source": [
    "#Get Tallinn\n",
    "data_tallinn = getFromXlsx(\"./data/Tallinn-Harku_2004-2020.xlsx\", selectedColumns, 'Tallinn-Harku')\n",
    "#Get Roomassaare\n",
    "data_roomassaare = getFromXlsx(\"./data/Roomassaare_2008-2020.xlsx\", selectedColumns, 'Roomassaare')\n",
    "#Merge tables\n",
    "data_weather = data_tallinn.merge(data_roomassaare, how='left', on=[\"y\", \"m\", \"d\", \"time\"])"
   ]
  },
  {
   "cell_type": "code",
   "execution_count": 15,
   "id": "aa858e97",
   "metadata": {},
   "outputs": [],
   "source": [
    "#Get Vilsandi\n",
    "data_vilsandi = getFromXlsx(\"./data/Vilsandi_2004-2020.xlsx\", selectedColumns, \"Vilsandi\")\n",
    "#Merge tables\n",
    "data_weather = data_weather.merge(data_vilsandi, how='left', on=[\"y\", \"m\", \"d\", \"time\"])"
   ]
  },
  {
   "cell_type": "code",
   "execution_count": 16,
   "id": "1a8b5bb9",
   "metadata": {},
   "outputs": [],
   "source": [
    "#Get Tartu\n",
    "data_Tartu = getFromXlsx(\"./data/Tartu-Toravere_2004-2020.xlsx\", selectedColumns, 'Tartu-Tõravere')\n",
    "#Merge tables\n",
    "data_weather = data_weather.merge(data_Tartu, how='left', on=[\"y\", \"m\", \"d\", \"time\"])"
   ]
  },
  {
   "cell_type": "code",
   "execution_count": 17,
   "id": "9a5ac6e7",
   "metadata": {},
   "outputs": [],
   "source": [
    "#Get Tiirikoja\n",
    "data_Tiirikoja = getFromXlsx(\"./data/Tiirikoja_2004-2020.xlsx\", selectedColumns, \"Tiirikoja\")\n",
    "data_weather = data_weather.merge(data_Tiirikoja, how='left', on=[\"y\", \"m\", \"d\", \"time\"])"
   ]
  },
  {
   "cell_type": "code",
   "execution_count": 18,
   "id": "ecb1c7d4",
   "metadata": {},
   "outputs": [],
   "source": [
    "#Once again drop all rows where some row is missing\n",
    "data_weather = data_weather.dropna()"
   ]
  },
  {
   "cell_type": "markdown",
   "id": "04738f7e",
   "metadata": {},
   "source": [
    "## Merge two tables\n"
   ]
  },
  {
   "cell_type": "code",
   "execution_count": 19,
   "id": "0ba5fb52",
   "metadata": {},
   "outputs": [],
   "source": [
    "data_solar_weather = data_weather.merge(hourly_sun_intensity, how='left', on=[\"y\", \"m\", \"d\", \"time\"])"
   ]
  },
  {
   "cell_type": "markdown",
   "id": "655223b1",
   "metadata": {},
   "source": [
    "## Create dataframe where the location is not important"
   ]
  },
  {
   "cell_type": "code",
   "execution_count": 20,
   "id": "29a3a66d",
   "metadata": {},
   "outputs": [],
   "source": [
    "weatherStations = ['Tallinn-Harku', 'Roomassaare', \"Vilsandi\", 'Tartu-Tõravere', \"Tiirikoja\"]"
   ]
  },
  {
   "cell_type": "code",
   "execution_count": 21,
   "id": "e6fe23e7",
   "metadata": {},
   "outputs": [],
   "source": [
    "data_solar_weather_noLocation = pd.DataFrame()\n",
    "\n",
    "for weatherStation in weatherStations:\n",
    "    #Select right columns\n",
    "    data_solar_weather_location = data_solar_weather[['y', 'm', 'd', 'time', f'temp_{weatherStation}', f'wind_speed_{weatherStation}',\n",
    "       f'pressure_{weatherStation}', f'rel_humidity_{weatherStation}', f'solar_{weatherStation}']]\n",
    "    columnNames = dict()\n",
    "    for i in range(len(data_solar_weather_location.columns)):\n",
    "        columnNames[data_solar_weather_location.columns[i]] = data_solar_weather_location.columns[i].replace(f\"_{weatherStation}\", \"\")\n",
    "    data_solar_weather_location = data_solar_weather_location.rename(columns=columnNames)\n",
    "    \n",
    "    data_solar_weather_noLocation = data_solar_weather_noLocation.append(data_solar_weather_location)"
   ]
  },
  {
   "cell_type": "code",
   "execution_count": 22,
   "id": "a7c5b947",
   "metadata": {},
   "outputs": [],
   "source": [
    "data_solar_weather_noLocation = data_solar_weather_noLocation.dropna()"
   ]
  },
  {
   "cell_type": "markdown",
   "id": "8a5252de",
   "metadata": {},
   "source": [
    "## Check, which variables correlate with solar intensity"
   ]
  },
  {
   "cell_type": "code",
   "execution_count": 23,
   "id": "e47424da",
   "metadata": {},
   "outputs": [
    {
     "name": "stderr",
     "output_type": "stream",
     "text": [
      "/home/main/anaconda3/envs/metsat/lib/python3.7/site-packages/ipykernel_launcher.py:4: UserWarning: FixedFormatter should only be used together with FixedLocator\n",
      "  after removing the cwd from sys.path.\n",
      "/home/main/anaconda3/envs/metsat/lib/python3.7/site-packages/ipykernel_launcher.py:5: UserWarning: FixedFormatter should only be used together with FixedLocator\n",
      "  \"\"\"\n"
     ]
    },
    {
     "data": {
      "image/png": "[encoded data removed]",
      "text/plain": [
       "<Figure size 576x576 with 2 Axes>"
      ]
     },
     "metadata": {
      "needs_background": "light"
     },
     "output_type": "display_data"
    }
   ],
   "source": [
    "fig = plt.figure(figsize=(8,8))\n",
    "ax = fig.add_subplot(111)\n",
    "cax = ax.matshow(data_solar_weather_noLocation.corr())\n",
    "ax.set_xticklabels(data_solar_weather_noLocation.columns, rotation = 45, ha=\"left\")\n",
    "ax.set_yticklabels(data_solar_weather_noLocation.columns)\n",
    "#ax.set_xticks(np.arange(0,8,1))\n",
    "#ax.set_yticks(np.arange(0,8,1))\n",
    "#ax.set_ylim(bottom=8.5, top=-0.5)\n",
    "fig.colorbar(cax, shrink=0.8)\n",
    "\n",
    "plt.show()"
   ]
  },
  {
   "cell_type": "code",
   "execution_count": 24,
   "id": "2375acee",
   "metadata": {},
   "outputs": [
    {
     "data": {
      "text/plain": [
       "<AxesSubplot:>"
      ]
     },
     "execution_count": 24,
     "metadata": {},
     "output_type": "execute_result"
    },
    {
     "data": {
      "image/png": "[encoded data removed]",
      "text/plain": [
       "<Figure size 432x288 with 1 Axes>"
      ]
     },
     "metadata": {
      "needs_background": "light"
     },
     "output_type": "display_data"
    }
   ],
   "source": [
    "\n",
    "data_solar_weather_noLocation.corr().loc['solar'].drop(['solar']).sort_values().plot.bar()"
   ]
  }
 ],
 "metadata": {
  "kernelspec": {
   "display_name": "Python 3 (ipykernel)",
   "language": "python",
   "name": "python3"
  },
  "language_info": {
   "codemirror_mode": {
    "name": "ipython",
    "version": 3
   },
   "file_extension": ".py",
   "mimetype": "text/x-python",
   "name": "python",
   "nbconvert_exporter": "python",
   "pygments_lexer": "ipython3",
   "version": "3.7.12"
  }
 },
 "nbformat": 4,
 "nbformat_minor": 5
}
