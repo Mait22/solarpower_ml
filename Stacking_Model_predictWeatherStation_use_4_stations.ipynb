{
 "cells": [
  {
   "cell_type": "markdown",
   "metadata": {},
   "source": [
    "# This model here is trained on 4 selected weather stations to predict one given weather station"
   ]
  },
  {
   "cell_type": "markdown",
   "metadata": {},
   "source": [
    "## Loading data and converting to dataframe"
   ]
  },
  {
   "cell_type": "code",
   "execution_count": 1,
   "metadata": {},
   "outputs": [],
   "source": [
    "import pandas as pd\n",
    "import numpy as np\n",
    "import matplotlib.pyplot as plt\n",
    "import copy\n",
    "import datetime\n",
    "import sklearn"
   ]
  },
  {
   "cell_type": "markdown",
   "metadata": {},
   "source": [
    "### Solar intensity data"
   ]
  },
  {
   "cell_type": "code",
   "execution_count": 2,
   "metadata": {},
   "outputs": [],
   "source": [
    "#Load initial data\n",
    "hourly_sun_intensity = pd.read_excel('2-10_21_524-2 Andmed.xlsx', sheet_name = 'tunni sum.kiirgus', header = 1)"
   ]
  },
  {
   "cell_type": "code",
   "execution_count": 3,
   "metadata": {},
   "outputs": [],
   "source": [
    "#Update column names by shortening them and converting to English\n",
    "newColumnNames = dict()\n",
    "newColumnNames[\"Aasta\"] = \"y\"\n",
    "newColumnNames[\"Kuu\"] = \"m\"\n",
    "newColumnNames[\"Päaev\"] = \"d\"\n",
    "newColumnNames[\"Kell (UTC)\"] = \"time\"\n",
    "for columnName in hourly_sun_intensity.columns:\n",
    "    if \"kiirgus\" in columnName:\n",
    "        newColumnNames[columnName] = \"solar_\"+columnName.replace(\" summaarne kiirgus, W/m²\", \"\")\n",
    "#newColumnNames = [\"y\", \"m\", \"d\", \"time\"]+[\"solar_\"+columnName.replace(\" summaarne kiirgus, W/m²\", \"\") for columnName in hourly_sun_intensity.columns if \"kiirgus\" in columnName]\n",
    "hourly_sun_intensity = hourly_sun_intensity.rename(columns=newColumnNames)\n",
    "#hourly_sun_intensity.columns = newColumnNames"
   ]
  },
  {
   "cell_type": "code",
   "execution_count": 4,
   "metadata": {},
   "outputs": [],
   "source": [
    "# Some weather stations have changed locations over time, as the differences between their locations are rather small (less than 8 km)\n",
    "# We at first do not make separation between them\n",
    "\n",
    "def join_columns(c1, c2, nc, df, column_id): # Function for joining columns, where an area has two weather measuring points\n",
    "    data = []\n",
    "    cs = [c1, c2]\n",
    "    for i, rows in df[cs].iterrows():\n",
    "        if (pd.isna(rows[0]) == True) & (pd.isna(rows[1]) == False):\n",
    "            data.append(round(rows[1], 2))\n",
    "        elif (pd.isna(rows[0]) == False) & (pd.isna(rows[1]) == True):\n",
    "            data.append(round(rows[0], 2))\n",
    "        elif (pd.isna(rows[0]) == False) & (pd.isna(rows[1]) == False):\n",
    "            data.append(round(rows.mean(), 2))\n",
    "        elif (pd.isna(rows[0]) == True) & (pd.isna(rows[1]) == True):\n",
    "            data.append(rows[0])\n",
    "\n",
    "    df = df.drop(columns = [c1, c2])\n",
    "    df.insert(column_id, nc, data)\n",
    "    \n",
    "    return df"
   ]
  },
  {
   "cell_type": "code",
   "execution_count": 5,
   "metadata": {},
   "outputs": [],
   "source": [
    "#Merge columns, which are due to weather station moving\n",
    "hourly_sun_intensity = join_columns('solar_Narva', 'solar_Narva-Jõesuu', 'solar_Narva', hourly_sun_intensity, 4)\n",
    "hourly_sun_intensity = join_columns('solar_Pärnu-Sauga', 'solar_Pärnu', 'solar_Pärnu', hourly_sun_intensity, 5)"
   ]
  },
  {
   "cell_type": "code",
   "execution_count": 6,
   "metadata": {},
   "outputs": [],
   "source": [
    "#Drop rows where some value is missing\n",
    "hourly_sun_intensity = hourly_sun_intensity.dropna()\n",
    "#If value is -1 it corresponds to night, set it to 0\n",
    "hourly_sun_intensity = hourly_sun_intensity.replace(-1, 0)"
   ]
  },
  {
   "cell_type": "code",
   "execution_count": 7,
   "metadata": {},
   "outputs": [],
   "source": [
    "#Shift the times -X minutes to facilitate predicting future solar intensity from existing\n",
    "def shiftDateTime(df, numberOfHours):\n",
    "    dateTimes = []\n",
    "    for i in range(len(df)):\n",
    "        row = df.iloc[i]\n",
    "        dateTimes+=[datetime.datetime.combine(datetime.date(row.y, row.m, row.d), row.time)+datetime.timedelta(hours=numberOfHours)]\n",
    "    df2 = copy.deepcopy(df)\n",
    "    df2[\"y\"] = [date.year for date in dateTimes]\n",
    "    df2[\"m\"] = [date.month for date in dateTimes]\n",
    "    df2[\"d\"] = [date.day for date in dateTimes]\n",
    "    df2[\"time\"] = [date.time() for date in dateTimes]\n",
    "    \n",
    "    return df2\n",
    "    \n",
    "    "
   ]
  },
  {
   "cell_type": "code",
   "execution_count": 8,
   "metadata": {},
   "outputs": [],
   "source": [
    "hourly_sun_intensity_Shifted = shiftDateTime(hourly_sun_intensity, -1)"
   ]
  },
  {
   "cell_type": "markdown",
   "metadata": {},
   "source": [
    "### Data from different weather stations"
   ]
  },
  {
   "cell_type": "markdown",
   "metadata": {},
   "source": [
    "#### Locations\n",
    "\n",
    "\n",
    "Tallinn-Harku\n",
    "Laius: N 59°23´53´´\n",
    "Pikkus: E 24°36´10´´\n",
    "Decimal\n",
    "Lat: 59.398055\n",
    "Long: 24.602778\n",
    "\n",
    "\n",
    "Haapsalu meteoroloogiajaam\n",
    "Laius N 58°56´40´´\n",
    "Pikkus E 23°33´18´´\n",
    "Decimal\n",
    "Lat: 58.944444\n",
    "Long: 23.555\n",
    "\n",
    "Narva\n",
    "Laius: N 59°23´22´´\n",
    "Pikkus: E 28°06´33´´\n",
    "Decimal\n",
    "Lat: 59.389444\n",
    "Long: 28.109167\n",
    "\n",
    "Pärnu\n",
    "Laius: N 58°23´4,44´´\n",
    "Pikkus: E 24°29´6,71´´\n",
    "Decimal\n",
    "Lat: 58.384556\n",
    "Long: 24.485197\n",
    "\n",
    "Roomassaare\n",
    "Laius: N 58°13’05”\n",
    "Pikkus: E 22°30’23”\n",
    "Decimal\n",
    "Lat: 58.218056 \n",
    "Long: 22.506389 \n",
    "\n",
    "Tartu-Tõravere meteoroloogiajaam\n",
    "Laius: N 58°15´51´´\n",
    "Pikkus: E 26°27´41´\n",
    "Decimal\n",
    "Lat: 58.264167\n",
    "Long: 26.461389\n",
    "\n",
    "Tiirikoja järvejaam\n",
    "Laius: N 58°51´55´´\n",
    "Pikkus: E 26°57´08´´\n",
    "Decimal\n",
    "Lat: 58.865278\n",
    "Long: 26.952222\n",
    "\n",
    "Vilsandi rannikujaam\n",
    "Laius: N 58°22´58”\n",
    "Pikkus: E 21°48´51”\n",
    "Deciaml\n",
    "Lat: 58.382778\n",
    "Long: 21.814167"
   ]
  },
  {
   "cell_type": "code",
   "execution_count": 9,
   "metadata": {},
   "outputs": [],
   "source": [
    "weather_station_coordinates = dict()\n",
    "weather_station_coordinates[\"tallinn\"] = [59.398055, 24.602778]\n",
    "weather_station_coordinates[\"haapsalu\"] = [58.944444, 23.555]\n",
    "weather_station_coordinates[\"narva\"] = [59.389444, 28.109167]\n",
    "weather_station_coordinates[\"parnu\"] = [59.389444, 28.109167]\n",
    "weather_station_coordinates[\"roomassaare\"] = [58.218056, 22.506389]\n",
    "weather_station_coordinates[\"tartu\"] = [58.264167, 26.461389]\n",
    "weather_station_coordinates[\"tiirikoja\"] = [58.865278, 26.952222]\n",
    "weather_station_coordinates[\"vilsandi\"] = [58.382778, 21.814167]"
   ]
  },
  {
   "cell_type": "code",
   "execution_count": 10,
   "metadata": {},
   "outputs": [],
   "source": [
    "selectedColumns = [\"Aasta\", \"Kuu\", \"Päev\", \"Kell (UTC)\", \"Õhutemperatuur °C\",\"Suhteline õhuniiskus %\", \"10 minuti keskmine tuule kiirus m/s\", \"10 minuti keskmine tuule suund\"]"
   ]
  },
  {
   "cell_type": "code",
   "execution_count": 11,
   "metadata": {},
   "outputs": [],
   "source": [
    "#Update column names by shortening them and converting to English\n",
    "\n",
    "def updateColumnNames(df, location):\n",
    "    newColumnNames = dict()\n",
    "    newColumnNames[\"Aasta\"] = \"y\"\n",
    "    newColumnNames[\"Kuu\"] = \"m\"\n",
    "    newColumnNames[\"Päev\"] = \"d\"\n",
    "    newColumnNames[\"Kell (UTC)\"] = \"time\"\n",
    "    newColumnNames[\"Õhutemperatuur °C\"] = f\"temp_{location}\"\n",
    "    newColumnNames[\"10 minuti keskmine tuule kiirus m/s\"] = f\"wind_speed_{location}\"\n",
    "    newColumnNames[\"Õhurõhk jaama kõrgusel hPa\"] = f\"pressure_{location}\"\n",
    "    newColumnNames[\"Suhteline õhuniiskus %\"] = f\"rel_humidity_{location}\"\n",
    "    newColumnNames[\"10 minuti keskmine tuule suund\"] = f\"wind_dir_{location}\"\n",
    "    df = df.rename(columns=newColumnNames)\n",
    "    return df"
   ]
  },
  {
   "cell_type": "code",
   "execution_count": 12,
   "metadata": {},
   "outputs": [],
   "source": [
    "def getFromXlsx(filename, columns, location):\n",
    "    #Load xlsx\n",
    "    df = pd.read_excel(filename, header = 1)\n",
    "    df = df[columns]\n",
    "    #Drop rows where data is missing\n",
    "    #df = df.dropna()\n",
    "    #Update column names for clarity\n",
    "    df = updateColumnNames(df, location)\n",
    "    return df"
   ]
  },
  {
   "cell_type": "code",
   "execution_count": 13,
   "metadata": {},
   "outputs": [],
   "source": [
    "#Get Tallinn\n",
    "data_tallinn = getFromXlsx(\"./data/Tallinn-Harku_2004-2020.xlsx\", selectedColumns, \"tallinn\")\n",
    "#data_tallinn[\"lat_tallinn\"] = len(data_tallinn)*[weather_station_coordinates[\"tallinn\"][0]]\n",
    "#data_tallinn[\"long_tallinn\"] = len(data_tallinn)*[weather_station_coordinates[\"tallinn\"][1]]\n",
    "#Get Roomassaare\n",
    "data_roomassaare = getFromXlsx(\"./data/Roomassaare_2008-2020.xlsx\", selectedColumns, \"roomassaare\")\n",
    "#data_roomassaare[\"lat_roomassaare\"] = len(data_roomassaare)*[weather_station_coordinates[\"roomassaare\"][0]]\n",
    "#data_roomassaare[\"long_roomassaare\"] = len(data_roomassaare)*[weather_station_coordinates[\"roomassaare\"][1]]\n",
    "#Merge tables\n",
    "data_weather = data_tallinn.merge(data_roomassaare, how='left', on=[\"y\", \"m\", \"d\", \"time\"])"
   ]
  },
  {
   "cell_type": "code",
   "execution_count": 14,
   "metadata": {},
   "outputs": [],
   "source": [
    "#Get Vilsandi\n",
    "data_vilsandi = getFromXlsx(\"./data/Vilsandi_2004-2020.xlsx\", selectedColumns, \"vilsandi\")\n",
    "#data_vilsandi[\"lat_vilsandi\"] = len(data_vilsandi)*[weather_station_coordinates[\"vilsandi\"][0]]\n",
    "#data_vilsandi[\"long_vilsandi\"] = len(data_vilsandi)*[weather_station_coordinates[\"vilsandi\"][1]]\n",
    "#Merge tables\n",
    "data_weather = data_weather.merge(data_vilsandi, how='left', on=[\"y\", \"m\", \"d\", \"time\"])"
   ]
  },
  {
   "cell_type": "code",
   "execution_count": 15,
   "metadata": {},
   "outputs": [],
   "source": [
    "##Get Parnu\n",
    "#data_parnu1 = getFromXlsx(\"./data/Parnu-Sauga_01.12.2004-31.03.2019.xlsx\", selectedColumns, \"parnu\")\n",
    "#data_parnu2 = getFromXlsx(\"./data/Parnu_01.04.2019-2020.xlsx\", selectedColumns, \"parnu\")\n",
    "#data_parnu = data_parnu1.append(data_parnu2)\n",
    "\n",
    "##Merge tables\n",
    "#data_weather = data_weather.merge(data_parnu, how='left', on=[\"y\", \"m\", \"d\", \"time\"])"
   ]
  },
  {
   "cell_type": "code",
   "execution_count": 16,
   "metadata": {},
   "outputs": [],
   "source": [
    "data_Tartu = getFromXlsx(\"./data/Tartu-Toravere_2004-2020.xlsx\", selectedColumns, \"tartu\")\n",
    "#data_Tartu[\"lat_tartu\"] = len(data_Tartu)*[weather_station_coordinates[\"tartu\"][0]]\n",
    "#data_Tartu[\"long_tartu\"] = len(data_Tartu)*[weather_station_coordinates[\"tartu\"][1]]\n",
    "#Merge tables\n",
    "\n",
    "data_weather = data_weather.merge(data_Tartu, how='left', on=[\"y\", \"m\", \"d\", \"time\"])\n"
   ]
  },
  {
   "cell_type": "code",
   "execution_count": 17,
   "metadata": {},
   "outputs": [],
   "source": [
    "data_Narva = getFromXlsx(\"./data/Narva_19.12.2013-2020.xlsx\", selectedColumns, \"narva\")\n",
    "data_weather = data_weather.merge(data_Narva, how='left', on=[\"y\", \"m\", \"d\", \"time\"])"
   ]
  },
  {
   "cell_type": "code",
   "execution_count": 18,
   "metadata": {},
   "outputs": [],
   "source": [
    "#Once again drop all rows where some row is missing\n",
    "data_weather = data_weather.dropna()"
   ]
  },
  {
   "cell_type": "markdown",
   "metadata": {},
   "source": [
    "### Join weather and solar data"
   ]
  },
  {
   "cell_type": "code",
   "execution_count": 19,
   "metadata": {},
   "outputs": [],
   "source": [
    "data_solar_weather = hourly_sun_intensity_Shifted.merge(data_weather, how='left', on=[\"y\", \"m\", \"d\", \"time\"])"
   ]
  },
  {
   "cell_type": "code",
   "execution_count": 20,
   "metadata": {},
   "outputs": [],
   "source": [
    "hours = []\n",
    "for i in range(len(data_solar_weather)):\n",
    "    hours+=[data_solar_weather.iloc[i].time.hour]\n",
    "data_solar_weather[\"h\"] = hours\n"
   ]
  },
  {
   "cell_type": "code",
   "execution_count": 21,
   "metadata": {},
   "outputs": [],
   "source": [
    "data_solar_weather = data_solar_weather.dropna()"
   ]
  },
  {
   "cell_type": "code",
   "execution_count": 22,
   "metadata": {},
   "outputs": [
    {
     "data": {
      "text/plain": [
       "Index(['y', 'm', 'd', 'time', 'solar_Narva', 'solar_Pärnu', 'solar_Haapsalu',\n",
       "       'solar_Tallinn-Harku', 'solar_Roomassaare', 'solar_Tartu-Tõravere',\n",
       "       'solar_Tiirikoja', 'solar_Vilsandi', 'temp_tallinn',\n",
       "       'rel_humidity_tallinn', 'wind_speed_tallinn', 'wind_dir_tallinn',\n",
       "       'temp_roomassaare', 'rel_humidity_roomassaare',\n",
       "       'wind_speed_roomassaare', 'wind_dir_roomassaare', 'temp_vilsandi',\n",
       "       'rel_humidity_vilsandi', 'wind_speed_vilsandi', 'wind_dir_vilsandi',\n",
       "       'temp_tartu', 'rel_humidity_tartu', 'wind_speed_tartu',\n",
       "       'wind_dir_tartu', 'temp_narva', 'rel_humidity_narva',\n",
       "       'wind_speed_narva', 'wind_dir_narva', 'h'],\n",
       "      dtype='object')"
      ]
     },
     "execution_count": 22,
     "metadata": {},
     "output_type": "execute_result"
    }
   ],
   "source": [
    "data_solar_weather.columns"
   ]
  },
  {
   "cell_type": "markdown",
   "metadata": {},
   "source": [
    "# Let's train models"
   ]
  },
  {
   "cell_type": "markdown",
   "metadata": {},
   "source": [
    "## 4 other stations, predict Pärnu, different parameters"
   ]
  },
  {
   "cell_type": "markdown",
   "metadata": {},
   "source": [
    "4 Stations Tartu, Tallinn, Roomassaare, Vilsandi, predict Pärnu\n",
    "dtr 96.26316991627043\n",
    "rf 66.69709972042308\n"
   ]
  },
  {
   "cell_type": "markdown",
   "metadata": {},
   "source": [
    "### Data Prep"
   ]
  },
  {
   "cell_type": "code",
   "execution_count": 75,
   "metadata": {},
   "outputs": [
    {
     "data": {
      "text/plain": [
       "Index(['y', 'm', 'd', 'time', 'solar_Narva', 'solar_Pärnu', 'solar_Haapsalu',\n",
       "       'solar_Tallinn-Harku', 'solar_Roomassaare', 'solar_Tartu-Tõravere',\n",
       "       'solar_Tiirikoja', 'solar_Vilsandi', 'temp_tallinn',\n",
       "       'rel_humidity_tallinn', 'wind_speed_tallinn', 'wind_dir_tallinn',\n",
       "       'temp_roomassaare', 'rel_humidity_roomassaare',\n",
       "       'wind_speed_roomassaare', 'wind_dir_roomassaare', 'temp_vilsandi',\n",
       "       'rel_humidity_vilsandi', 'wind_speed_vilsandi', 'wind_dir_vilsandi',\n",
       "       'temp_tartu', 'rel_humidity_tartu', 'wind_speed_tartu',\n",
       "       'wind_dir_tartu', 'temp_narva', 'rel_humidity_narva',\n",
       "       'wind_speed_narva', 'wind_dir_narva', 'h'],\n",
       "      dtype='object')"
      ]
     },
     "execution_count": 75,
     "metadata": {},
     "output_type": "execute_result"
    }
   ],
   "source": [
    "data_solar_weather.columns"
   ]
  },
  {
   "cell_type": "code",
   "execution_count": 23,
   "metadata": {},
   "outputs": [],
   "source": [
    "X = data_solar_weather[['m','d', 'h', 'temp_tallinn',\n",
    "       'rel_humidity_tallinn', 'wind_speed_tallinn', 'wind_dir_tallinn',\n",
    "       'temp_roomassaare', 'rel_humidity_roomassaare',\n",
    "       'wind_speed_roomassaare', 'wind_dir_roomassaare', 'temp_vilsandi',\n",
    "       'rel_humidity_vilsandi', 'wind_speed_vilsandi', 'wind_dir_vilsandi',\n",
    "       'temp_tartu', 'rel_humidity_tartu', 'wind_speed_tartu',\n",
    "       'wind_dir_tartu']]\n",
    "\n",
    "y = data_solar_weather[['solar_Pärnu']]"
   ]
  },
  {
   "cell_type": "code",
   "execution_count": 24,
   "metadata": {},
   "outputs": [],
   "source": [
    "from sklearn.model_selection import train_test_split\n",
    "X_train, X_test, y_train, y_test = train_test_split(X, y, test_size=0.33, random_state=111)"
   ]
  },
  {
   "cell_type": "code",
   "execution_count": 25,
   "metadata": {},
   "outputs": [],
   "source": [
    "from sklearn.preprocessing import MinMaxScaler\n",
    "scaler = MinMaxScaler()\n",
    "scaler.fit(X_train)\n",
    "X_train_scaled = scaler.transform(X_train)\n",
    "X_test_scaled = scaler.transform(X_test)"
   ]
  },
  {
   "cell_type": "markdown",
   "metadata": {},
   "source": [
    "### Random Forest"
   ]
  },
  {
   "cell_type": "code",
   "execution_count": 29,
   "metadata": {},
   "outputs": [],
   "source": [
    "from sklearn.ensemble import RandomForestRegressor\n",
    "from sklearn.metrics import mean_squared_error"
   ]
  },
  {
   "cell_type": "code",
   "execution_count": 30,
   "metadata": {},
   "outputs": [],
   "source": [
    "results_df = pd.DataFrame()"
   ]
  },
  {
   "cell_type": "code",
   "execution_count": 31,
   "metadata": {},
   "outputs": [
    {
     "name": "stderr",
     "output_type": "stream",
     "text": [
      "C:\\ProgramData\\Anaconda3\\lib\\site-packages\\ipykernel_launcher.py:2: DataConversionWarning: A column-vector y was passed when a 1d array was expected. Please change the shape of y to (n_samples,), for example using ravel().\n",
      "  \n"
     ]
    },
    {
     "data": {
      "text/plain": [
       "67.20360252881693"
      ]
     },
     "execution_count": 31,
     "metadata": {},
     "output_type": "execute_result"
    }
   ],
   "source": [
    "rf= RandomForestRegressor()\n",
    "rf.fit(X_train_scaled, y_train)\n",
    "mean_squared_error(y_test, rf.predict(X_test_scaled), squared = False)"
   ]
  },
  {
   "cell_type": "code",
   "execution_count": 32,
   "metadata": {},
   "outputs": [
    {
     "name": "stderr",
     "output_type": "stream",
     "text": [
      "C:\\ProgramData\\Anaconda3\\lib\\site-packages\\ipykernel_launcher.py:12: DataConversionWarning: A column-vector y was passed when a 1d array was expected. Please change the shape of y to (n_samples,), for example using ravel().\n",
      "  if sys.path[0] == '':\n",
      "C:\\ProgramData\\Anaconda3\\lib\\site-packages\\ipykernel_launcher.py:12: DataConversionWarning: A column-vector y was passed when a 1d array was expected. Please change the shape of y to (n_samples,), for example using ravel().\n",
      "  if sys.path[0] == '':\n",
      "C:\\ProgramData\\Anaconda3\\lib\\site-packages\\ipykernel_launcher.py:12: DataConversionWarning: A column-vector y was passed when a 1d array was expected. Please change the shape of y to (n_samples,), for example using ravel().\n",
      "  if sys.path[0] == '':\n",
      "C:\\ProgramData\\Anaconda3\\lib\\site-packages\\ipykernel_launcher.py:12: DataConversionWarning: A column-vector y was passed when a 1d array was expected. Please change the shape of y to (n_samples,), for example using ravel().\n",
      "  if sys.path[0] == '':\n",
      "C:\\ProgramData\\Anaconda3\\lib\\site-packages\\ipykernel_launcher.py:12: DataConversionWarning: A column-vector y was passed when a 1d array was expected. Please change the shape of y to (n_samples,), for example using ravel().\n",
      "  if sys.path[0] == '':\n",
      "C:\\ProgramData\\Anaconda3\\lib\\site-packages\\ipykernel_launcher.py:12: DataConversionWarning: A column-vector y was passed when a 1d array was expected. Please change the shape of y to (n_samples,), for example using ravel().\n",
      "  if sys.path[0] == '':\n",
      "C:\\ProgramData\\Anaconda3\\lib\\site-packages\\ipykernel_launcher.py:12: DataConversionWarning: A column-vector y was passed when a 1d array was expected. Please change the shape of y to (n_samples,), for example using ravel().\n",
      "  if sys.path[0] == '':\n",
      "C:\\ProgramData\\Anaconda3\\lib\\site-packages\\ipykernel_launcher.py:12: DataConversionWarning: A column-vector y was passed when a 1d array was expected. Please change the shape of y to (n_samples,), for example using ravel().\n",
      "  if sys.path[0] == '':\n"
     ]
    }
   ],
   "source": [
    "############### Random Forest ##############################\n",
    "\n",
    "n_estimatorss = [100, 150]\n",
    "max_depths=[20]\n",
    "min_samples_splits=[4,6,8,16]\n",
    "seeds = [1]\n",
    "results_df = pd.DataFrame(columns=['model',\"seed\",\"n_estimators\",\"max_depth\",\"min_samples_split\",'TrainError', 'ValError', 'deltaErrors'])\n",
    "for seed in seeds:\n",
    "    for n_estimator in n_estimatorss:\n",
    "        for max_d in max_depths:\n",
    "            for min_ss in min_samples_splits:\n",
    "                rf = RandomForestRegressor(criterion=\"squared_error\", n_estimators=n_estimator, max_depth=max_d, min_samples_split=min_ss, random_state=seed).fit(X_train, y_train)\n",
    "                trainError = mean_squared_error(y_train, rf.predict(X_train), squared = False)\n",
    "                valError = mean_squared_error(y_test, rf.predict(X_test), squared = False)\n",
    "                results_df = results_df.append({'model': 'RF',\"seed\":seed,\"n_estimators\":n_estimator,\"max_depth\":max_d,\"min_samples_split\":min_ss,\"TrainError\":trainError, 'ValError':valError, 'deltaErrors':abs(trainError-valError)}, ignore_index=True)"
   ]
  },
  {
   "cell_type": "code",
   "execution_count": 33,
   "metadata": {},
   "outputs": [
    {
     "data": {
      "text/html": [
       "<div>\n",
       "<style scoped>\n",
       "    .dataframe tbody tr th:only-of-type {\n",
       "        vertical-align: middle;\n",
       "    }\n",
       "\n",
       "    .dataframe tbody tr th {\n",
       "        vertical-align: top;\n",
       "    }\n",
       "\n",
       "    .dataframe thead th {\n",
       "        text-align: right;\n",
       "    }\n",
       "</style>\n",
       "<table border=\"1\" class=\"dataframe\">\n",
       "  <thead>\n",
       "    <tr style=\"text-align: right;\">\n",
       "      <th></th>\n",
       "      <th>model</th>\n",
       "      <th>seed</th>\n",
       "      <th>n_estimators</th>\n",
       "      <th>max_depth</th>\n",
       "      <th>min_samples_split</th>\n",
       "      <th>TrainError</th>\n",
       "      <th>ValError</th>\n",
       "      <th>deltaErrors</th>\n",
       "    </tr>\n",
       "  </thead>\n",
       "  <tbody>\n",
       "    <tr>\n",
       "      <th>4</th>\n",
       "      <td>RF</td>\n",
       "      <td>1</td>\n",
       "      <td>150</td>\n",
       "      <td>20</td>\n",
       "      <td>4</td>\n",
       "      <td>30.000551</td>\n",
       "      <td>67.492777</td>\n",
       "      <td>37.492226</td>\n",
       "    </tr>\n",
       "    <tr>\n",
       "      <th>0</th>\n",
       "      <td>RF</td>\n",
       "      <td>1</td>\n",
       "      <td>100</td>\n",
       "      <td>20</td>\n",
       "      <td>4</td>\n",
       "      <td>30.161928</td>\n",
       "      <td>67.679470</td>\n",
       "      <td>37.517542</td>\n",
       "    </tr>\n",
       "    <tr>\n",
       "      <th>5</th>\n",
       "      <td>RF</td>\n",
       "      <td>1</td>\n",
       "      <td>150</td>\n",
       "      <td>20</td>\n",
       "      <td>6</td>\n",
       "      <td>32.631136</td>\n",
       "      <td>67.693022</td>\n",
       "      <td>35.061885</td>\n",
       "    </tr>\n",
       "    <tr>\n",
       "      <th>1</th>\n",
       "      <td>RF</td>\n",
       "      <td>1</td>\n",
       "      <td>100</td>\n",
       "      <td>20</td>\n",
       "      <td>6</td>\n",
       "      <td>32.800755</td>\n",
       "      <td>67.836640</td>\n",
       "      <td>35.035884</td>\n",
       "    </tr>\n",
       "    <tr>\n",
       "      <th>6</th>\n",
       "      <td>RF</td>\n",
       "      <td>1</td>\n",
       "      <td>150</td>\n",
       "      <td>20</td>\n",
       "      <td>8</td>\n",
       "      <td>35.261961</td>\n",
       "      <td>67.935102</td>\n",
       "      <td>32.673141</td>\n",
       "    </tr>\n",
       "    <tr>\n",
       "      <th>2</th>\n",
       "      <td>RF</td>\n",
       "      <td>1</td>\n",
       "      <td>100</td>\n",
       "      <td>20</td>\n",
       "      <td>8</td>\n",
       "      <td>35.407152</td>\n",
       "      <td>68.095225</td>\n",
       "      <td>32.688073</td>\n",
       "    </tr>\n",
       "    <tr>\n",
       "      <th>7</th>\n",
       "      <td>RF</td>\n",
       "      <td>1</td>\n",
       "      <td>150</td>\n",
       "      <td>20</td>\n",
       "      <td>16</td>\n",
       "      <td>44.055066</td>\n",
       "      <td>68.936211</td>\n",
       "      <td>24.881145</td>\n",
       "    </tr>\n",
       "    <tr>\n",
       "      <th>3</th>\n",
       "      <td>RF</td>\n",
       "      <td>1</td>\n",
       "      <td>100</td>\n",
       "      <td>20</td>\n",
       "      <td>16</td>\n",
       "      <td>44.152703</td>\n",
       "      <td>69.069536</td>\n",
       "      <td>24.916833</td>\n",
       "    </tr>\n",
       "  </tbody>\n",
       "</table>\n",
       "</div>"
      ],
      "text/plain": [
       "  model seed n_estimators max_depth min_samples_split  TrainError   ValError  \\\n",
       "4    RF    1          150        20                 4   30.000551  67.492777   \n",
       "0    RF    1          100        20                 4   30.161928  67.679470   \n",
       "5    RF    1          150        20                 6   32.631136  67.693022   \n",
       "1    RF    1          100        20                 6   32.800755  67.836640   \n",
       "6    RF    1          150        20                 8   35.261961  67.935102   \n",
       "2    RF    1          100        20                 8   35.407152  68.095225   \n",
       "7    RF    1          150        20                16   44.055066  68.936211   \n",
       "3    RF    1          100        20                16   44.152703  69.069536   \n",
       "\n",
       "   deltaErrors  \n",
       "4    37.492226  \n",
       "0    37.517542  \n",
       "5    35.061885  \n",
       "1    35.035884  \n",
       "6    32.673141  \n",
       "2    32.688073  \n",
       "7    24.881145  \n",
       "3    24.916833  "
      ]
     },
     "execution_count": 33,
     "metadata": {},
     "output_type": "execute_result"
    }
   ],
   "source": [
    "results_df.sort_values(\"ValError\")"
   ]
  },
  {
   "cell_type": "markdown",
   "metadata": {},
   "source": [
    "### Gradient Boosting"
   ]
  },
  {
   "cell_type": "code",
   "execution_count": 45,
   "metadata": {},
   "outputs": [
    {
     "name": "stderr",
     "output_type": "stream",
     "text": [
      "C:\\ProgramData\\Anaconda3\\lib\\site-packages\\sklearn\\utils\\validation.py:985: DataConversionWarning: A column-vector y was passed when a 1d array was expected. Please change the shape of y to (n_samples, ), for example using ravel().\n",
      "  y = column_or_1d(y, warn=True)\n",
      "C:\\ProgramData\\Anaconda3\\lib\\site-packages\\sklearn\\utils\\validation.py:985: DataConversionWarning: A column-vector y was passed when a 1d array was expected. Please change the shape of y to (n_samples, ), for example using ravel().\n",
      "  y = column_or_1d(y, warn=True)\n",
      "C:\\ProgramData\\Anaconda3\\lib\\site-packages\\sklearn\\utils\\validation.py:985: DataConversionWarning: A column-vector y was passed when a 1d array was expected. Please change the shape of y to (n_samples, ), for example using ravel().\n",
      "  y = column_or_1d(y, warn=True)\n",
      "C:\\ProgramData\\Anaconda3\\lib\\site-packages\\sklearn\\utils\\validation.py:985: DataConversionWarning: A column-vector y was passed when a 1d array was expected. Please change the shape of y to (n_samples, ), for example using ravel().\n",
      "  y = column_or_1d(y, warn=True)\n",
      "C:\\ProgramData\\Anaconda3\\lib\\site-packages\\sklearn\\utils\\validation.py:985: DataConversionWarning: A column-vector y was passed when a 1d array was expected. Please change the shape of y to (n_samples, ), for example using ravel().\n",
      "  y = column_or_1d(y, warn=True)\n",
      "C:\\ProgramData\\Anaconda3\\lib\\site-packages\\sklearn\\utils\\validation.py:985: DataConversionWarning: A column-vector y was passed when a 1d array was expected. Please change the shape of y to (n_samples, ), for example using ravel().\n",
      "  y = column_or_1d(y, warn=True)\n",
      "C:\\ProgramData\\Anaconda3\\lib\\site-packages\\sklearn\\utils\\validation.py:985: DataConversionWarning: A column-vector y was passed when a 1d array was expected. Please change the shape of y to (n_samples, ), for example using ravel().\n",
      "  y = column_or_1d(y, warn=True)\n",
      "C:\\ProgramData\\Anaconda3\\lib\\site-packages\\sklearn\\utils\\validation.py:985: DataConversionWarning: A column-vector y was passed when a 1d array was expected. Please change the shape of y to (n_samples, ), for example using ravel().\n",
      "  y = column_or_1d(y, warn=True)\n",
      "C:\\ProgramData\\Anaconda3\\lib\\site-packages\\sklearn\\utils\\validation.py:985: DataConversionWarning: A column-vector y was passed when a 1d array was expected. Please change the shape of y to (n_samples, ), for example using ravel().\n",
      "  y = column_or_1d(y, warn=True)\n",
      "C:\\ProgramData\\Anaconda3\\lib\\site-packages\\sklearn\\utils\\validation.py:985: DataConversionWarning: A column-vector y was passed when a 1d array was expected. Please change the shape of y to (n_samples, ), for example using ravel().\n",
      "  y = column_or_1d(y, warn=True)\n",
      "C:\\ProgramData\\Anaconda3\\lib\\site-packages\\sklearn\\utils\\validation.py:985: DataConversionWarning: A column-vector y was passed when a 1d array was expected. Please change the shape of y to (n_samples, ), for example using ravel().\n",
      "  y = column_or_1d(y, warn=True)\n",
      "C:\\ProgramData\\Anaconda3\\lib\\site-packages\\sklearn\\utils\\validation.py:985: DataConversionWarning: A column-vector y was passed when a 1d array was expected. Please change the shape of y to (n_samples, ), for example using ravel().\n",
      "  y = column_or_1d(y, warn=True)\n"
     ]
    }
   ],
   "source": [
    "from sklearn.experimental import enable_hist_gradient_boosting\n",
    "from sklearn.ensemble import HistGradientBoostingRegressor\n",
    "\n",
    "\n",
    "############### HistGradientBoostingRegressor ##############################\n",
    "\n",
    "learning_rates = [0.2, 0.1, 0.05, 0.01]\n",
    "l2_regularizations=[0, 0.1, 0.2]\n",
    "results_gb_df = pd.DataFrame(columns=['model',\"lr\",\"l2\",'TrainError', 'ValError', 'deltaErrors'])\n",
    "for learning_rate in learning_rates:\n",
    "    for l2_regularization in l2_regularizations:\n",
    "        gb = HistGradientBoostingRegressor(l2_regularization=l2_regularization, learning_rate=learning_rate).fit(X_train, y_train.values)\n",
    "        trainError = mean_squared_error(y_train.values, gb.predict(X_train), squared = False)\n",
    "        valError = mean_squared_error(y_test.values, gb.predict(X_test), squared = False)\n",
    "        results_gb_df = results_gb_df.append({'model': 'GB', \"lr\":learning_rate , \"l2\":l2_regularization, \"TrainError\":trainError, 'ValError':valError, 'deltaErrors':abs(trainError-valError)}, ignore_index=True)"
   ]
  },
  {
   "cell_type": "code",
   "execution_count": 46,
   "metadata": {},
   "outputs": [
    {
     "data": {
      "text/html": [
       "<div>\n",
       "<style scoped>\n",
       "    .dataframe tbody tr th:only-of-type {\n",
       "        vertical-align: middle;\n",
       "    }\n",
       "\n",
       "    .dataframe tbody tr th {\n",
       "        vertical-align: top;\n",
       "    }\n",
       "\n",
       "    .dataframe thead th {\n",
       "        text-align: right;\n",
       "    }\n",
       "</style>\n",
       "<table border=\"1\" class=\"dataframe\">\n",
       "  <thead>\n",
       "    <tr style=\"text-align: right;\">\n",
       "      <th></th>\n",
       "      <th>model</th>\n",
       "      <th>lr</th>\n",
       "      <th>l2</th>\n",
       "      <th>TrainError</th>\n",
       "      <th>ValError</th>\n",
       "      <th>deltaErrors</th>\n",
       "    </tr>\n",
       "  </thead>\n",
       "  <tbody>\n",
       "    <tr>\n",
       "      <th>1</th>\n",
       "      <td>GB</td>\n",
       "      <td>0.20</td>\n",
       "      <td>0.1</td>\n",
       "      <td>53.368090</td>\n",
       "      <td>67.490322</td>\n",
       "      <td>14.122232</td>\n",
       "    </tr>\n",
       "    <tr>\n",
       "      <th>0</th>\n",
       "      <td>GB</td>\n",
       "      <td>0.20</td>\n",
       "      <td>0</td>\n",
       "      <td>53.822786</td>\n",
       "      <td>67.629805</td>\n",
       "      <td>13.807019</td>\n",
       "    </tr>\n",
       "    <tr>\n",
       "      <th>2</th>\n",
       "      <td>GB</td>\n",
       "      <td>0.20</td>\n",
       "      <td>0.2</td>\n",
       "      <td>53.803657</td>\n",
       "      <td>67.894717</td>\n",
       "      <td>14.091059</td>\n",
       "    </tr>\n",
       "    <tr>\n",
       "      <th>4</th>\n",
       "      <td>GB</td>\n",
       "      <td>0.10</td>\n",
       "      <td>0.1</td>\n",
       "      <td>59.834553</td>\n",
       "      <td>68.489578</td>\n",
       "      <td>8.655025</td>\n",
       "    </tr>\n",
       "    <tr>\n",
       "      <th>3</th>\n",
       "      <td>GB</td>\n",
       "      <td>0.10</td>\n",
       "      <td>0</td>\n",
       "      <td>59.789863</td>\n",
       "      <td>68.525111</td>\n",
       "      <td>8.735248</td>\n",
       "    </tr>\n",
       "    <tr>\n",
       "      <th>5</th>\n",
       "      <td>GB</td>\n",
       "      <td>0.10</td>\n",
       "      <td>0.2</td>\n",
       "      <td>59.649989</td>\n",
       "      <td>68.600153</td>\n",
       "      <td>8.950164</td>\n",
       "    </tr>\n",
       "    <tr>\n",
       "      <th>8</th>\n",
       "      <td>GB</td>\n",
       "      <td>0.05</td>\n",
       "      <td>0.2</td>\n",
       "      <td>66.175811</td>\n",
       "      <td>71.010685</td>\n",
       "      <td>4.834874</td>\n",
       "    </tr>\n",
       "    <tr>\n",
       "      <th>7</th>\n",
       "      <td>GB</td>\n",
       "      <td>0.05</td>\n",
       "      <td>0.1</td>\n",
       "      <td>66.154377</td>\n",
       "      <td>71.108425</td>\n",
       "      <td>4.954048</td>\n",
       "    </tr>\n",
       "    <tr>\n",
       "      <th>6</th>\n",
       "      <td>GB</td>\n",
       "      <td>0.05</td>\n",
       "      <td>0</td>\n",
       "      <td>66.104724</td>\n",
       "      <td>71.113731</td>\n",
       "      <td>5.009007</td>\n",
       "    </tr>\n",
       "    <tr>\n",
       "      <th>9</th>\n",
       "      <td>GB</td>\n",
       "      <td>0.01</td>\n",
       "      <td>0</td>\n",
       "      <td>108.877045</td>\n",
       "      <td>108.870004</td>\n",
       "      <td>0.007041</td>\n",
       "    </tr>\n",
       "    <tr>\n",
       "      <th>11</th>\n",
       "      <td>GB</td>\n",
       "      <td>0.01</td>\n",
       "      <td>0.2</td>\n",
       "      <td>108.980237</td>\n",
       "      <td>108.912137</td>\n",
       "      <td>0.068100</td>\n",
       "    </tr>\n",
       "    <tr>\n",
       "      <th>10</th>\n",
       "      <td>GB</td>\n",
       "      <td>0.01</td>\n",
       "      <td>0.1</td>\n",
       "      <td>109.125936</td>\n",
       "      <td>108.998767</td>\n",
       "      <td>0.127169</td>\n",
       "    </tr>\n",
       "  </tbody>\n",
       "</table>\n",
       "</div>"
      ],
      "text/plain": [
       "   model    lr   l2  TrainError    ValError  deltaErrors\n",
       "1     GB  0.20  0.1   53.368090   67.490322    14.122232\n",
       "0     GB  0.20    0   53.822786   67.629805    13.807019\n",
       "2     GB  0.20  0.2   53.803657   67.894717    14.091059\n",
       "4     GB  0.10  0.1   59.834553   68.489578     8.655025\n",
       "3     GB  0.10    0   59.789863   68.525111     8.735248\n",
       "5     GB  0.10  0.2   59.649989   68.600153     8.950164\n",
       "8     GB  0.05  0.2   66.175811   71.010685     4.834874\n",
       "7     GB  0.05  0.1   66.154377   71.108425     4.954048\n",
       "6     GB  0.05    0   66.104724   71.113731     5.009007\n",
       "9     GB  0.01    0  108.877045  108.870004     0.007041\n",
       "11    GB  0.01  0.2  108.980237  108.912137     0.068100\n",
       "10    GB  0.01  0.1  109.125936  108.998767     0.127169"
      ]
     },
     "execution_count": 46,
     "metadata": {},
     "output_type": "execute_result"
    }
   ],
   "source": [
    "results_gb_df.sort_values(\"ValError\")"
   ]
  },
  {
   "cell_type": "markdown",
   "metadata": {},
   "source": [
    "## SVR"
   ]
  },
  {
   "cell_type": "code",
   "execution_count": 48,
   "metadata": {},
   "outputs": [
    {
     "name": "stderr",
     "output_type": "stream",
     "text": [
      "C:\\ProgramData\\Anaconda3\\lib\\site-packages\\sklearn\\utils\\validation.py:985: DataConversionWarning: A column-vector y was passed when a 1d array was expected. Please change the shape of y to (n_samples, ), for example using ravel().\n",
      "  y = column_or_1d(y, warn=True)\n"
     ]
    },
    {
     "data": {
      "text/plain": [
       "SVR()"
      ]
     },
     "execution_count": 48,
     "metadata": {},
     "output_type": "execute_result"
    }
   ],
   "source": [
    "from sklearn import svm\n",
    "\n",
    "clf = svm.SVR()\n",
    "clf.fit(X_train, y_train.values)"
   ]
  },
  {
   "cell_type": "code",
   "execution_count": 49,
   "metadata": {},
   "outputs": [
    {
     "data": {
      "text/plain": [
       "188.0323328276874"
      ]
     },
     "execution_count": 49,
     "metadata": {},
     "output_type": "execute_result"
    }
   ],
   "source": [
    "mean_squared_error(y_test.values, clf.predict(X_test), squared = False)"
   ]
  },
  {
   "cell_type": "markdown",
   "metadata": {},
   "source": [
    "## Lasso"
   ]
  },
  {
   "cell_type": "code",
   "execution_count": 52,
   "metadata": {},
   "outputs": [],
   "source": [
    "from sklearn import linear_model"
   ]
  },
  {
   "cell_type": "code",
   "execution_count": 57,
   "metadata": {},
   "outputs": [
    {
     "data": {
      "text/plain": [
       "Lasso(alpha=0.01)"
      ]
     },
     "execution_count": 57,
     "metadata": {},
     "output_type": "execute_result"
    }
   ],
   "source": [
    "lasso = linear_model.Lasso(alpha=0.01)\n",
    "lasso.fit(X_train, y_train.values)"
   ]
  },
  {
   "cell_type": "code",
   "execution_count": 58,
   "metadata": {},
   "outputs": [
    {
     "data": {
      "text/plain": [
       "141.81088469396633"
      ]
     },
     "execution_count": 58,
     "metadata": {},
     "output_type": "execute_result"
    }
   ],
   "source": [
    "mean_squared_error(y_test.values, lasso.predict(X_test), squared = False)"
   ]
  },
  {
   "cell_type": "markdown",
   "metadata": {},
   "source": [
    "## Ridge"
   ]
  },
  {
   "cell_type": "code",
   "execution_count": 59,
   "metadata": {},
   "outputs": [
    {
     "data": {
      "text/plain": [
       "Ridge(alpha=0.01)"
      ]
     },
     "execution_count": 59,
     "metadata": {},
     "output_type": "execute_result"
    }
   ],
   "source": [
    "ridge = linear_model.Ridge(alpha=0.01)\n",
    "ridge.fit(X_train, y_train.values)"
   ]
  },
  {
   "cell_type": "code",
   "execution_count": 60,
   "metadata": {},
   "outputs": [
    {
     "data": {
      "text/plain": [
       "141.81099217260274"
      ]
     },
     "execution_count": 60,
     "metadata": {},
     "output_type": "execute_result"
    }
   ],
   "source": [
    "mean_squared_error(y_test.values, ridge.predict(X_test), squared = False)"
   ]
  },
  {
   "cell_type": "markdown",
   "metadata": {},
   "source": [
    "## Predict Pärnu, use 4 stations, use only one type of variables"
   ]
  },
  {
   "cell_type": "markdown",
   "metadata": {},
   "source": [
    "## Temperature"
   ]
  },
  {
   "cell_type": "code",
   "execution_count": 115,
   "metadata": {},
   "outputs": [],
   "source": [
    "X = data_solar_weather[['m','d', 'h', 'temp_tallinn',\n",
    "       'temp_roomassaare', 'temp_vilsandi',\n",
    "       'temp_tartu']]\n",
    "\n",
    "y = data_solar_weather[['solar_Pärnu']]"
   ]
  },
  {
   "cell_type": "code",
   "execution_count": 116,
   "metadata": {},
   "outputs": [],
   "source": [
    "from sklearn.model_selection import train_test_split\n",
    "X_train, X_test, y_train, y_test = train_test_split(X, y, test_size=0.33, random_state=111)"
   ]
  },
  {
   "cell_type": "code",
   "execution_count": 117,
   "metadata": {},
   "outputs": [],
   "source": [
    "from sklearn.preprocessing import MinMaxScaler\n",
    "scaler = MinMaxScaler()\n",
    "scaler.fit(X_train)\n",
    "X_train_scaled = scaler.transform(X_train)\n",
    "X_test_scaled = scaler.transform(X_test)"
   ]
  },
  {
   "cell_type": "code",
   "execution_count": 118,
   "metadata": {},
   "outputs": [
    {
     "data": {
      "text/plain": [
       "DecisionTreeRegressor(max_depth=80)"
      ]
     },
     "execution_count": 118,
     "metadata": {},
     "output_type": "execute_result"
    }
   ],
   "source": [
    "from sklearn.tree import DecisionTreeRegressor\n",
    "dtr= DecisionTreeRegressor(max_depth = 80)\n",
    "dtr.fit(X_train, y_train)"
   ]
  },
  {
   "cell_type": "code",
   "execution_count": 119,
   "metadata": {},
   "outputs": [
    {
     "data": {
      "text/plain": [
       "107.92307200732515"
      ]
     },
     "execution_count": 119,
     "metadata": {},
     "output_type": "execute_result"
    }
   ],
   "source": [
    "dtr.fit(X_train_scaled, y_train)\n",
    "mean_squared_error(y_test, dtr.predict(X_test_scaled), squared = False)"
   ]
  },
  {
   "cell_type": "code",
   "execution_count": 120,
   "metadata": {},
   "outputs": [
    {
     "name": "stderr",
     "output_type": "stream",
     "text": [
      "C:\\ProgramData\\Anaconda3\\lib\\site-packages\\ipykernel_launcher.py:4: DataConversionWarning: A column-vector y was passed when a 1d array was expected. Please change the shape of y to (n_samples,), for example using ravel().\n",
      "  after removing the cwd from sys.path.\n"
     ]
    },
    {
     "data": {
      "text/plain": [
       "77.96527929643392"
      ]
     },
     "execution_count": 120,
     "metadata": {},
     "output_type": "execute_result"
    }
   ],
   "source": [
    "results_df = pd.DataFrame()\n",
    "from sklearn.ensemble import RandomForestRegressor\n",
    "rf= RandomForestRegressor()\n",
    "rf.fit(X_train, y_train)\n",
    "mean_squared_error(y_test, rf.predict(X_test), squared = False)"
   ]
  },
  {
   "cell_type": "code",
   "execution_count": 121,
   "metadata": {},
   "outputs": [
    {
     "name": "stderr",
     "output_type": "stream",
     "text": [
      "C:\\ProgramData\\Anaconda3\\lib\\site-packages\\ipykernel_launcher.py:2: DataConversionWarning: A column-vector y was passed when a 1d array was expected. Please change the shape of y to (n_samples,), for example using ravel().\n",
      "  \n"
     ]
    },
    {
     "data": {
      "text/plain": [
       "77.86844172490507"
      ]
     },
     "execution_count": 121,
     "metadata": {},
     "output_type": "execute_result"
    }
   ],
   "source": [
    "rf= RandomForestRegressor()\n",
    "rf.fit(X_train_scaled, y_train)\n",
    "mean_squared_error(y_test, rf.predict(X_test_scaled), squared = False)"
   ]
  },
  {
   "cell_type": "markdown",
   "metadata": {},
   "source": [
    "## Humidity"
   ]
  },
  {
   "cell_type": "code",
   "execution_count": 123,
   "metadata": {},
   "outputs": [],
   "source": [
    "X = data_solar_weather[['m','d', 'h',\n",
    "       'rel_humidity_tallinn', 'rel_humidity_roomassaare',\n",
    "       'rel_humidity_vilsandi', 'rel_humidity_tartu']]\n",
    "\n",
    "y = data_solar_weather[['solar_Pärnu']]"
   ]
  },
  {
   "cell_type": "code",
   "execution_count": 124,
   "metadata": {},
   "outputs": [],
   "source": [
    "from sklearn.model_selection import train_test_split\n",
    "X_train, X_test, y_train, y_test = train_test_split(X, y, test_size=0.33, random_state=111)"
   ]
  },
  {
   "cell_type": "code",
   "execution_count": 125,
   "metadata": {},
   "outputs": [],
   "source": [
    "from sklearn.preprocessing import MinMaxScaler\n",
    "scaler = MinMaxScaler()\n",
    "scaler.fit(X_train)\n",
    "X_train_scaled = scaler.transform(X_train)\n",
    "X_test_scaled = scaler.transform(X_test)"
   ]
  },
  {
   "cell_type": "code",
   "execution_count": 126,
   "metadata": {},
   "outputs": [
    {
     "data": {
      "text/plain": [
       "103.89287296065847"
      ]
     },
     "execution_count": 126,
     "metadata": {},
     "output_type": "execute_result"
    }
   ],
   "source": [
    "from sklearn.tree import DecisionTreeRegressor\n",
    "dtr= DecisionTreeRegressor(max_depth = 80)\n",
    "dtr.fit(X_train, y_train)\n",
    "dtr.fit(X_train_scaled, y_train)\n",
    "mean_squared_error(y_test, dtr.predict(X_test_scaled), squared = False)"
   ]
  },
  {
   "cell_type": "code",
   "execution_count": 127,
   "metadata": {},
   "outputs": [
    {
     "name": "stderr",
     "output_type": "stream",
     "text": [
      "C:\\ProgramData\\Anaconda3\\lib\\site-packages\\ipykernel_launcher.py:4: DataConversionWarning: A column-vector y was passed when a 1d array was expected. Please change the shape of y to (n_samples,), for example using ravel().\n",
      "  after removing the cwd from sys.path.\n"
     ]
    },
    {
     "data": {
      "text/plain": [
       "72.07701172527304"
      ]
     },
     "execution_count": 127,
     "metadata": {},
     "output_type": "execute_result"
    }
   ],
   "source": [
    "results_df = pd.DataFrame()\n",
    "from sklearn.ensemble import RandomForestRegressor\n",
    "rf= RandomForestRegressor()\n",
    "rf.fit(X_train, y_train)\n",
    "mean_squared_error(y_test, rf.predict(X_test), squared = False)"
   ]
  },
  {
   "cell_type": "markdown",
   "metadata": {},
   "source": [
    "### Idea of trying Stacking to see if it works better"
   ]
  },
  {
   "cell_type": "code",
   "execution_count": 128,
   "metadata": {},
   "outputs": [],
   "source": [
    "from sklearn.ensemble import StackingRegressor"
   ]
  },
  {
   "cell_type": "code",
   "execution_count": null,
   "metadata": {},
   "outputs": [],
   "source": [
    "estimators = [\n",
    "    ('lr', RidgeCV()),\n",
    "    ('svr', LinearSVR(random_state=42))\n",
    "]"
   ]
  },
  {
   "cell_type": "code",
   "execution_count": null,
   "metadata": {},
   "outputs": [],
   "source": []
  },
  {
   "cell_type": "code",
   "execution_count": null,
   "metadata": {},
   "outputs": [],
   "source": []
  }
 ],
 "metadata": {
  "kernelspec": {
   "display_name": "Python 3",
   "language": "python",
   "name": "python3"
  },
  "language_info": {
   "codemirror_mode": {
    "name": "ipython",
    "version": 3
   },
   "file_extension": ".py",
   "mimetype": "text/x-python",
   "name": "python",
   "nbconvert_exporter": "python",
   "pygments_lexer": "ipython3",
   "version": "3.7.3"
  }
 },
 "nbformat": 4,
 "nbformat_minor": 5
}
