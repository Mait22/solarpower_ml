{
 "cells": [
  {
   "cell_type": "markdown",
   "id": "554ac236",
   "metadata": {},
   "source": [
    "# This model here is trained on 4 selected weather stations to predict one given weather station"
   ]
  },
  {
   "cell_type": "markdown",
   "id": "96484b95",
   "metadata": {},
   "source": [
    "## Loading data and converting to dataframe"
   ]
  },
  {
   "cell_type": "code",
   "execution_count": 2,
   "id": "d9511659",
   "metadata": {},
   "outputs": [],
   "source": [
    "import pandas as pd\n",
    "import numpy as np\n",
    "import matplotlib.pyplot as plt\n",
    "import copy\n",
    "import datetime\n",
    "import sklearn"
   ]
  },
  {
   "cell_type": "markdown",
   "id": "27235ace",
   "metadata": {},
   "source": [
    "### Solar intensity data"
   ]
  },
  {
   "cell_type": "code",
   "execution_count": 3,
   "id": "2cf6f38c",
   "metadata": {},
   "outputs": [],
   "source": [
    "#Load initial data\n",
    "hourly_sun_intensity = pd.read_excel('2-10_21_524-2 Andmed.xlsx', sheet_name = 'tunni sum.kiirgus', header = 1)"
   ]
  },
  {
   "cell_type": "code",
   "execution_count": 4,
   "id": "2e2ca9b0",
   "metadata": {},
   "outputs": [],
   "source": [
    "#Update column names by shortening them and converting to English\n",
    "newColumnNames = dict()\n",
    "newColumnNames[\"Aasta\"] = \"y\"\n",
    "newColumnNames[\"Kuu\"] = \"m\"\n",
    "newColumnNames[\"Päaev\"] = \"d\"\n",
    "newColumnNames[\"Kell (UTC)\"] = \"time\"\n",
    "for columnName in hourly_sun_intensity.columns:\n",
    "    if \"kiirgus\" in columnName:\n",
    "        newColumnNames[columnName] = \"solar_\"+columnName.replace(\" summaarne kiirgus, W/m²\", \"\")\n",
    "#newColumnNames = [\"y\", \"m\", \"d\", \"time\"]+[\"solar_\"+columnName.replace(\" summaarne kiirgus, W/m²\", \"\") for columnName in hourly_sun_intensity.columns if \"kiirgus\" in columnName]\n",
    "hourly_sun_intensity = hourly_sun_intensity.rename(columns=newColumnNames)\n",
    "#hourly_sun_intensity.columns = newColumnNames"
   ]
  },
  {
   "cell_type": "code",
   "execution_count": 5,
   "id": "bdd3ecf7",
   "metadata": {},
   "outputs": [],
   "source": [
    "# Some weather stations have changed locations over time, as the differences between their locations are rather small (less than 8 km)\n",
    "# We at first do not make separation between them\n",
    "\n",
    "def join_columns(c1, c2, nc, df, column_id): # Function for joining columns, where an area has two weather measuring points\n",
    "    data = []\n",
    "    cs = [c1, c2]\n",
    "    for i, rows in df[cs].iterrows():\n",
    "        if (pd.isna(rows[0]) == True) & (pd.isna(rows[1]) == False):\n",
    "            data.append(round(rows[1], 2))\n",
    "        elif (pd.isna(rows[0]) == False) & (pd.isna(rows[1]) == True):\n",
    "            data.append(round(rows[0], 2))\n",
    "        elif (pd.isna(rows[0]) == False) & (pd.isna(rows[1]) == False):\n",
    "            data.append(round(rows.mean(), 2))\n",
    "        elif (pd.isna(rows[0]) == True) & (pd.isna(rows[1]) == True):\n",
    "            data.append(rows[0])\n",
    "\n",
    "    df = df.drop(columns = [c1, c2])\n",
    "    df.insert(column_id, nc, data)\n",
    "    \n",
    "    return df"
   ]
  },
  {
   "cell_type": "code",
   "execution_count": 6,
   "id": "471d4ea2",
   "metadata": {},
   "outputs": [],
   "source": [
    "#Merge columns, which are due to weather station moving\n",
    "hourly_sun_intensity = join_columns('solar_Narva', 'solar_Narva-Jõesuu', 'solar_Narva', hourly_sun_intensity, 4)\n",
    "hourly_sun_intensity = join_columns('solar_Pärnu-Sauga', 'solar_Pärnu', 'solar_Pärnu', hourly_sun_intensity, 5)"
   ]
  },
  {
   "cell_type": "code",
   "execution_count": 7,
   "id": "00d2109d",
   "metadata": {},
   "outputs": [],
   "source": [
    "#Drop rows where some value is missing\n",
    "hourly_sun_intensity = hourly_sun_intensity.dropna()\n",
    "#If value is -1 it corresponds to night, set it to 0\n",
    "hourly_sun_intensity = hourly_sun_intensity.replace(-1, 0)"
   ]
  },
  {
   "cell_type": "code",
   "execution_count": 8,
   "id": "a85759c5",
   "metadata": {},
   "outputs": [],
   "source": [
    "#Shift the times -X minutes to facilitate predicting future solar intensity from existing\n",
    "def shiftDateTime(df, numberOfHours):\n",
    "    dateTimes = []\n",
    "    for i in range(len(df)):\n",
    "        row = df.iloc[i]\n",
    "        dateTimes+=[datetime.datetime.combine(datetime.date(row.y, row.m, row.d), row.time)+datetime.timedelta(hours=numberOfHours)]\n",
    "    df2 = copy.deepcopy(df)\n",
    "    df2[\"y\"] = [date.year for date in dateTimes]\n",
    "    df2[\"m\"] = [date.month for date in dateTimes]\n",
    "    df2[\"d\"] = [date.day for date in dateTimes]\n",
    "    df2[\"time\"] = [date.time() for date in dateTimes]\n",
    "    \n",
    "    return df2\n",
    "    \n",
    "    "
   ]
  },
  {
   "cell_type": "code",
   "execution_count": 9,
   "id": "d5a5312c",
   "metadata": {},
   "outputs": [],
   "source": [
    "hourly_sun_intensity_Shifted = shiftDateTime(hourly_sun_intensity, -1)"
   ]
  },
  {
   "cell_type": "markdown",
   "id": "20e3f066",
   "metadata": {},
   "source": [
    "### Data from different weather stations"
   ]
  },
  {
   "cell_type": "markdown",
   "id": "10e9e0fc",
   "metadata": {},
   "source": [
    "#### Locations\n",
    "\n",
    "\n",
    "Tallinn-Harku\n",
    "Laius: N 59°23´53´´\n",
    "Pikkus: E 24°36´10´´\n",
    "Decimal\n",
    "Lat: 59.398055\n",
    "Long: 24.602778\n",
    "\n",
    "\n",
    "Haapsalu meteoroloogiajaam\n",
    "Laius N 58°56´40´´\n",
    "Pikkus E 23°33´18´´\n",
    "Decimal\n",
    "Lat: 58.944444\n",
    "Long: 23.555\n",
    "\n",
    "Narva\n",
    "Laius: N 59°23´22´´\n",
    "Pikkus: E 28°06´33´´\n",
    "Decimal\n",
    "Lat: 59.389444\n",
    "Long: 28.109167\n",
    "\n",
    "Pärnu\n",
    "Laius: N 58°23´4,44´´\n",
    "Pikkus: E 24°29´6,71´´\n",
    "Decimal\n",
    "Lat: 58.384556\n",
    "Long: 24.485197\n",
    "\n",
    "Roomassaare\n",
    "Laius: N 58°13’05”\n",
    "Pikkus: E 22°30’23”\n",
    "Decimal\n",
    "Lat: 58.218056 \n",
    "Long: 22.506389 \n",
    "\n",
    "Tartu-Tõravere meteoroloogiajaam\n",
    "Laius: N 58°15´51´´\n",
    "Pikkus: E 26°27´41´\n",
    "Decimal\n",
    "Lat: 58.264167\n",
    "Long: 26.461389\n",
    "\n",
    "Tiirikoja järvejaam\n",
    "Laius: N 58°51´55´´\n",
    "Pikkus: E 26°57´08´´\n",
    "Decimal\n",
    "Lat: 58.865278\n",
    "Long: 26.952222\n",
    "\n",
    "Vilsandi rannikujaam\n",
    "Laius: N 58°22´58”\n",
    "Pikkus: E 21°48´51”\n",
    "Deciaml\n",
    "Lat: 58.382778\n",
    "Long: 21.814167"
   ]
  },
  {
   "cell_type": "code",
   "execution_count": 10,
   "id": "6e31afe7",
   "metadata": {},
   "outputs": [],
   "source": [
    "weather_station_coordinates = dict()\n",
    "weather_station_coordinates[\"tallinn\"] = [59.398055, 24.602778]\n",
    "weather_station_coordinates[\"haapsalu\"] = [58.944444, 23.555]\n",
    "weather_station_coordinates[\"narva\"] = [59.389444, 28.109167]\n",
    "weather_station_coordinates[\"parnu\"] = [59.389444, 28.109167]\n",
    "weather_station_coordinates[\"roomassaare\"] = [58.218056, 22.506389]\n",
    "weather_station_coordinates[\"tartu\"] = [58.264167, 26.461389]\n",
    "weather_station_coordinates[\"tiirikoja\"] = [58.865278, 26.952222]\n",
    "weather_station_coordinates[\"vilsandi\"] = [58.382778, 21.814167]"
   ]
  },
  {
   "cell_type": "code",
   "execution_count": 11,
   "id": "ca90f5d8",
   "metadata": {},
   "outputs": [],
   "source": [
    "selectedColumns = [\"Aasta\", \"Kuu\", \"Päev\", \"Kell (UTC)\", \"Õhutemperatuur °C\", \"10 minuti keskmine tuule kiirus m/s\"]"
   ]
  },
  {
   "cell_type": "code",
   "execution_count": 12,
   "id": "fe830187",
   "metadata": {},
   "outputs": [],
   "source": [
    "#Update column names by shortening them and converting to English\n",
    "\n",
    "def updateColumnNames(df, location):\n",
    "    newColumnNames = dict()\n",
    "    newColumnNames[\"Aasta\"] = \"y\"\n",
    "    newColumnNames[\"Kuu\"] = \"m\"\n",
    "    newColumnNames[\"Päev\"] = \"d\"\n",
    "    newColumnNames[\"Kell (UTC)\"] = \"time\"\n",
    "    newColumnNames[\"Õhutemperatuur °C\"] = f\"temp_{location}\"\n",
    "    newColumnNames[\"10 minuti keskmine tuule kiirus m/s\"] = f\"wind_speed_{location}\"\n",
    "    df = df.rename(columns=newColumnNames)\n",
    "    return df"
   ]
  },
  {
   "cell_type": "code",
   "execution_count": 13,
   "id": "81c5feec",
   "metadata": {},
   "outputs": [],
   "source": [
    "def getFromXlsx(filename, columns, location):\n",
    "    #Load xlsx\n",
    "    df = pd.read_excel(filename, header = 1)\n",
    "    df = df[columns]\n",
    "    #Drop rows where data is missing\n",
    "    #df = df.dropna()\n",
    "    #Update column names for clarity\n",
    "    df = updateColumnNames(df, location)\n",
    "    return df"
   ]
  },
  {
   "cell_type": "code",
   "execution_count": 14,
   "id": "581a3a6a",
   "metadata": {},
   "outputs": [],
   "source": [
    "#Get Tallinn\n",
    "data_tallinn = getFromXlsx(\"./data/Tallinn-Harku_2004-2020.xlsx\", selectedColumns, \"tallinn\")\n",
    "#data_tallinn[\"lat_tallinn\"] = len(data_tallinn)*[weather_station_coordinates[\"tallinn\"][0]]\n",
    "#data_tallinn[\"long_tallinn\"] = len(data_tallinn)*[weather_station_coordinates[\"tallinn\"][1]]\n",
    "#Get Roomassaare\n",
    "data_roomassaare = getFromXlsx(\"./data/Roomassaare_2008-2020.xlsx\", selectedColumns, \"roomassaare\")\n",
    "#data_roomassaare[\"lat_roomassaare\"] = len(data_roomassaare)*[weather_station_coordinates[\"roomassaare\"][0]]\n",
    "#data_roomassaare[\"long_roomassaare\"] = len(data_roomassaare)*[weather_station_coordinates[\"roomassaare\"][1]]\n",
    "#Merge tables\n",
    "data_weather = data_tallinn.merge(data_roomassaare, how='left', on=[\"y\", \"m\", \"d\", \"time\"])"
   ]
  },
  {
   "cell_type": "code",
   "execution_count": 15,
   "id": "c18bd9a9",
   "metadata": {},
   "outputs": [],
   "source": [
    "#Get Vilsandi\n",
    "data_vilsandi = getFromXlsx(\"./data/Vilsandi_2004-2020.xlsx\", selectedColumns, \"vilsandi\")\n",
    "#data_vilsandi[\"lat_vilsandi\"] = len(data_vilsandi)*[weather_station_coordinates[\"vilsandi\"][0]]\n",
    "#data_vilsandi[\"long_vilsandi\"] = len(data_vilsandi)*[weather_station_coordinates[\"vilsandi\"][1]]\n",
    "#Merge tables\n",
    "data_weather = data_weather.merge(data_vilsandi, how='left', on=[\"y\", \"m\", \"d\", \"time\"])"
   ]
  },
  {
   "cell_type": "code",
   "execution_count": 16,
   "id": "ef95cbb0",
   "metadata": {},
   "outputs": [],
   "source": [
    "##Get Parnu\n",
    "#data_parnu1 = getFromXlsx(\"./data/Parnu-Sauga_01.12.2004-31.03.2019.xlsx\", selectedColumns, \"parnu\")\n",
    "#data_parnu2 = getFromXlsx(\"./data/Parnu_01.04.2019-2020.xlsx\", selectedColumns, \"parnu\")\n",
    "#data_parnu = data_parnu1.append(data_parnu2)\n",
    "\n",
    "##Merge tables\n",
    "#data_weather = data_weather.merge(data_parnu, how='left', on=[\"y\", \"m\", \"d\", \"time\"])"
   ]
  },
  {
   "cell_type": "code",
   "execution_count": 17,
   "id": "9a54c297",
   "metadata": {},
   "outputs": [],
   "source": [
    "data_Tartu = getFromXlsx(\"./data/Tartu-Toravere_2004-2020.xlsx\", selectedColumns, \"tartu\")\n",
    "#data_Tartu[\"lat_tartu\"] = len(data_Tartu)*[weather_station_coordinates[\"tartu\"][0]]\n",
    "#data_Tartu[\"long_tartu\"] = len(data_Tartu)*[weather_station_coordinates[\"tartu\"][1]]\n",
    "#Merge tables\n",
    "\n",
    "data_weather = data_weather.merge(data_Tartu, how='left', on=[\"y\", \"m\", \"d\", \"time\"])\n"
   ]
  },
  {
   "cell_type": "code",
   "execution_count": 18,
   "id": "dad211f1",
   "metadata": {},
   "outputs": [],
   "source": [
    "#Once again drop all rows where some row is missing\n",
    "data_weather = data_weather.dropna()"
   ]
  },
  {
   "cell_type": "markdown",
   "id": "4688b022",
   "metadata": {},
   "source": [
    "### Join weather and solar data"
   ]
  },
  {
   "cell_type": "code",
   "execution_count": 40,
   "id": "66c9462b",
   "metadata": {},
   "outputs": [],
   "source": [
    "data_solar_weather = hourly_sun_intensity_Shifted.merge(data_weather, how='left', on=[\"y\", \"m\", \"d\", \"time\"])"
   ]
  },
  {
   "cell_type": "code",
   "execution_count": 41,
   "id": "d0f361ee",
   "metadata": {},
   "outputs": [],
   "source": [
    "hours = []\n",
    "for i in range(len(data_solar_weather)):\n",
    "    hours+=[data_solar_weather.iloc[i].time.hour]\n",
    "data_solar_weather[\"h\"] = hours\n"
   ]
  },
  {
   "cell_type": "code",
   "execution_count": 42,
   "id": "fe425529",
   "metadata": {},
   "outputs": [],
   "source": [
    "data_solar_weather = data_solar_weather.dropna()"
   ]
  },
  {
   "cell_type": "code",
   "execution_count": 43,
   "id": "6912defb",
   "metadata": {},
   "outputs": [
    {
     "data": {
      "text/plain": [
       "Index(['y', 'm', 'd', 'time', 'solar_Narva', 'solar_Pärnu', 'solar_Haapsalu',\n",
       "       'solar_Tallinn-Harku', 'solar_Roomassaare', 'solar_Tartu-Tõravere',\n",
       "       'solar_Tiirikoja', 'solar_Vilsandi', 'temp_tallinn',\n",
       "       'wind_speed_tallinn', 'temp_roomassaare', 'wind_speed_roomassaare',\n",
       "       'temp_vilsandi', 'wind_speed_vilsandi', 'temp_tartu',\n",
       "       'wind_speed_tartu', 'h'],\n",
       "      dtype='object')"
      ]
     },
     "execution_count": 43,
     "metadata": {},
     "output_type": "execute_result"
    }
   ],
   "source": [
    "data_solar_weather.columns"
   ]
  },
  {
   "cell_type": "markdown",
   "id": "be7e79f0",
   "metadata": {},
   "source": [
    "# Let's train a model"
   ]
  },
  {
   "cell_type": "code",
   "execution_count": 22,
   "id": "a77b7ec0",
   "metadata": {},
   "outputs": [],
   "source": [
    "from sklearn.tree import DecisionTreeRegressor\n",
    "dtr= DecisionTreeRegressor(max_depth = 100)"
   ]
  },
  {
   "cell_type": "code",
   "execution_count": 44,
   "id": "27cc1c6e",
   "metadata": {},
   "outputs": [],
   "source": [
    "X = data_solar_weather[['m', 'd', 'h', 'temp_tallinn',\n",
    "       'wind_speed_tallinn', 'temp_roomassaare', 'wind_speed_roomassaare',\n",
    "       'temp_vilsandi', 'wind_speed_vilsandi', 'temp_tartu',\n",
    "       'wind_speed_tartu']]\n",
    "\n",
    "y = data_solar_weather[['solar_Pärnu']]"
   ]
  },
  {
   "cell_type": "code",
   "execution_count": 45,
   "id": "956f5ae3",
   "metadata": {},
   "outputs": [],
   "source": [
    "from sklearn.model_selection import train_test_split"
   ]
  },
  {
   "cell_type": "code",
   "execution_count": 46,
   "id": "b60f480d",
   "metadata": {},
   "outputs": [],
   "source": [
    "X_train, X_test, y_train, y_test = train_test_split(X, y, test_size=0.33, random_state=111)"
   ]
  },
  {
   "cell_type": "code",
   "execution_count": 47,
   "id": "2ca570f7",
   "metadata": {},
   "outputs": [
    {
     "data": {
      "text/plain": [
       "DecisionTreeRegressor(max_depth=100)"
      ]
     },
     "execution_count": 47,
     "metadata": {},
     "output_type": "execute_result"
    }
   ],
   "source": [
    "dtr.fit(X_train, y_train)"
   ]
  },
  {
   "cell_type": "code",
   "execution_count": 48,
   "id": "f5fd06eb",
   "metadata": {},
   "outputs": [
    {
     "data": {
      "text/plain": [
       "114.13963731178066"
      ]
     },
     "execution_count": 48,
     "metadata": {},
     "output_type": "execute_result"
    }
   ],
   "source": [
    "from sklearn.metrics import mean_squared_error\n",
    "# squared = False returns RMSE, otherwise MSE\n",
    "mean_squared_error(y_test, dtr.predict(X_test), squared = False)"
   ]
  },
  {
   "cell_type": "code",
   "execution_count": 49,
   "id": "a86542eb",
   "metadata": {},
   "outputs": [
    {
     "data": {
      "text/html": [
       "<div>\n",
       "<style scoped>\n",
       "    .dataframe tbody tr th:only-of-type {\n",
       "        vertical-align: middle;\n",
       "    }\n",
       "\n",
       "    .dataframe tbody tr th {\n",
       "        vertical-align: top;\n",
       "    }\n",
       "\n",
       "    .dataframe thead th {\n",
       "        text-align: right;\n",
       "    }\n",
       "</style>\n",
       "<table border=\"1\" class=\"dataframe\">\n",
       "  <thead>\n",
       "    <tr style=\"text-align: right;\">\n",
       "      <th></th>\n",
       "      <th>solar_Pärnu</th>\n",
       "    </tr>\n",
       "  </thead>\n",
       "  <tbody>\n",
       "    <tr>\n",
       "      <th>40555</th>\n",
       "      <td>525.0</td>\n",
       "    </tr>\n",
       "    <tr>\n",
       "      <th>29248</th>\n",
       "      <td>0.0</td>\n",
       "    </tr>\n",
       "    <tr>\n",
       "      <th>34223</th>\n",
       "      <td>39.0</td>\n",
       "    </tr>\n",
       "    <tr>\n",
       "      <th>83520</th>\n",
       "      <td>226.0</td>\n",
       "    </tr>\n",
       "    <tr>\n",
       "      <th>43926</th>\n",
       "      <td>0.0</td>\n",
       "    </tr>\n",
       "    <tr>\n",
       "      <th>...</th>\n",
       "      <td>...</td>\n",
       "    </tr>\n",
       "    <tr>\n",
       "      <th>11427</th>\n",
       "      <td>237.0</td>\n",
       "    </tr>\n",
       "    <tr>\n",
       "      <th>78569</th>\n",
       "      <td>0.0</td>\n",
       "    </tr>\n",
       "    <tr>\n",
       "      <th>11882</th>\n",
       "      <td>36.0</td>\n",
       "    </tr>\n",
       "    <tr>\n",
       "      <th>73513</th>\n",
       "      <td>283.0</td>\n",
       "    </tr>\n",
       "    <tr>\n",
       "      <th>56009</th>\n",
       "      <td>0.0</td>\n",
       "    </tr>\n",
       "  </tbody>\n",
       "</table>\n",
       "<p>29233 rows × 1 columns</p>\n",
       "</div>"
      ],
      "text/plain": [
       "       solar_Pärnu\n",
       "40555        525.0\n",
       "29248          0.0\n",
       "34223         39.0\n",
       "83520        226.0\n",
       "43926          0.0\n",
       "...            ...\n",
       "11427        237.0\n",
       "78569          0.0\n",
       "11882         36.0\n",
       "73513        283.0\n",
       "56009          0.0\n",
       "\n",
       "[29233 rows x 1 columns]"
      ]
     },
     "execution_count": 49,
     "metadata": {},
     "output_type": "execute_result"
    }
   ],
   "source": [
    "y_test"
   ]
  },
  {
   "cell_type": "code",
   "execution_count": null,
   "id": "7a879bc9",
   "metadata": {},
   "outputs": [],
   "source": []
  }
 ],
 "metadata": {
  "kernelspec": {
   "display_name": "Python 3 (ipykernel)",
   "language": "python",
   "name": "python3"
  },
  "language_info": {
   "codemirror_mode": {
    "name": "ipython",
    "version": 3
   },
   "file_extension": ".py",
   "mimetype": "text/x-python",
   "name": "python",
   "nbconvert_exporter": "python",
   "pygments_lexer": "ipython3",
   "version": "3.7.10"
  }
 },
 "nbformat": 4,
 "nbformat_minor": 5
}
