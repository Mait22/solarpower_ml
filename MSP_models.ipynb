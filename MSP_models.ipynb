{
 "cells": [
  {
   "cell_type": "markdown",
   "metadata": {},
   "source": [
    "MSP - Model as single point."
   ]
  },
  {
   "cell_type": "code",
   "execution_count": 23,
   "metadata": {},
   "outputs": [],
   "source": [
    "import pandas as pd\n",
    "import numpy as np\n",
    "import sklearn\n",
    "import matplotlib.pyplot as plt"
   ]
  },
  {
   "cell_type": "code",
   "execution_count": 24,
   "metadata": {},
   "outputs": [],
   "source": [
    "from sklearn.model_selection import train_test_split\n",
    "from sklearn.preprocessing import StandardScaler"
   ]
  },
  {
   "cell_type": "code",
   "execution_count": 25,
   "metadata": {},
   "outputs": [],
   "source": [
    "data = pd.read_csv('./data/h_data.csv')"
   ]
  },
  {
   "cell_type": "code",
   "execution_count": 26,
   "metadata": {},
   "outputs": [
    {
     "data": {
      "text/html": [
       "<div>\n",
       "<style scoped>\n",
       "    .dataframe tbody tr th:only-of-type {\n",
       "        vertical-align: middle;\n",
       "    }\n",
       "\n",
       "    .dataframe tbody tr th {\n",
       "        vertical-align: top;\n",
       "    }\n",
       "\n",
       "    .dataframe thead th {\n",
       "        text-align: right;\n",
       "    }\n",
       "</style>\n",
       "<table border=\"1\" class=\"dataframe\">\n",
       "  <thead>\n",
       "    <tr style=\"text-align: right;\">\n",
       "      <th></th>\n",
       "      <th>y</th>\n",
       "      <th>m</th>\n",
       "      <th>d</th>\n",
       "      <th>time</th>\n",
       "      <th>temp</th>\n",
       "      <th>wind_speed</th>\n",
       "      <th>rel_humidity</th>\n",
       "      <th>locX</th>\n",
       "      <th>locY</th>\n",
       "      <th>intensity</th>\n",
       "    </tr>\n",
       "  </thead>\n",
       "  <tbody>\n",
       "    <tr>\n",
       "      <th>0</th>\n",
       "      <td>2010</td>\n",
       "      <td>4</td>\n",
       "      <td>14</td>\n",
       "      <td>12</td>\n",
       "      <td>9.7</td>\n",
       "      <td>2.9</td>\n",
       "      <td>38.0</td>\n",
       "      <td>59.398055</td>\n",
       "      <td>24.602778</td>\n",
       "      <td>603.0</td>\n",
       "    </tr>\n",
       "    <tr>\n",
       "      <th>1</th>\n",
       "      <td>2010</td>\n",
       "      <td>4</td>\n",
       "      <td>14</td>\n",
       "      <td>13</td>\n",
       "      <td>10.2</td>\n",
       "      <td>2.3</td>\n",
       "      <td>38.0</td>\n",
       "      <td>59.398055</td>\n",
       "      <td>24.602778</td>\n",
       "      <td>540.0</td>\n",
       "    </tr>\n",
       "    <tr>\n",
       "      <th>2</th>\n",
       "      <td>2010</td>\n",
       "      <td>4</td>\n",
       "      <td>14</td>\n",
       "      <td>14</td>\n",
       "      <td>9.7</td>\n",
       "      <td>2.1</td>\n",
       "      <td>43.0</td>\n",
       "      <td>59.398055</td>\n",
       "      <td>24.602778</td>\n",
       "      <td>441.0</td>\n",
       "    </tr>\n",
       "    <tr>\n",
       "      <th>3</th>\n",
       "      <td>2010</td>\n",
       "      <td>4</td>\n",
       "      <td>14</td>\n",
       "      <td>15</td>\n",
       "      <td>10.4</td>\n",
       "      <td>1.7</td>\n",
       "      <td>42.0</td>\n",
       "      <td>59.398055</td>\n",
       "      <td>24.602778</td>\n",
       "      <td>319.0</td>\n",
       "    </tr>\n",
       "    <tr>\n",
       "      <th>4</th>\n",
       "      <td>2010</td>\n",
       "      <td>4</td>\n",
       "      <td>14</td>\n",
       "      <td>16</td>\n",
       "      <td>9.5</td>\n",
       "      <td>2.2</td>\n",
       "      <td>46.0</td>\n",
       "      <td>59.398055</td>\n",
       "      <td>24.602778</td>\n",
       "      <td>189.0</td>\n",
       "    </tr>\n",
       "    <tr>\n",
       "      <th>...</th>\n",
       "      <td>...</td>\n",
       "      <td>...</td>\n",
       "      <td>...</td>\n",
       "      <td>...</td>\n",
       "      <td>...</td>\n",
       "      <td>...</td>\n",
       "      <td>...</td>\n",
       "      <td>...</td>\n",
       "      <td>...</td>\n",
       "      <td>...</td>\n",
       "    </tr>\n",
       "    <tr>\n",
       "      <th>600573</th>\n",
       "      <td>2018</td>\n",
       "      <td>6</td>\n",
       "      <td>6</td>\n",
       "      <td>3</td>\n",
       "      <td>6.7</td>\n",
       "      <td>1.8</td>\n",
       "      <td>71.0</td>\n",
       "      <td>58.865278</td>\n",
       "      <td>26.952222</td>\n",
       "      <td>73.0</td>\n",
       "    </tr>\n",
       "    <tr>\n",
       "      <th>600574</th>\n",
       "      <td>2018</td>\n",
       "      <td>6</td>\n",
       "      <td>6</td>\n",
       "      <td>4</td>\n",
       "      <td>7.0</td>\n",
       "      <td>1.5</td>\n",
       "      <td>72.0</td>\n",
       "      <td>58.865278</td>\n",
       "      <td>26.952222</td>\n",
       "      <td>132.0</td>\n",
       "    </tr>\n",
       "    <tr>\n",
       "      <th>600575</th>\n",
       "      <td>2018</td>\n",
       "      <td>6</td>\n",
       "      <td>6</td>\n",
       "      <td>5</td>\n",
       "      <td>10.6</td>\n",
       "      <td>1.8</td>\n",
       "      <td>61.0</td>\n",
       "      <td>58.865278</td>\n",
       "      <td>26.952222</td>\n",
       "      <td>322.0</td>\n",
       "    </tr>\n",
       "    <tr>\n",
       "      <th>600576</th>\n",
       "      <td>2018</td>\n",
       "      <td>6</td>\n",
       "      <td>6</td>\n",
       "      <td>6</td>\n",
       "      <td>11.4</td>\n",
       "      <td>2.6</td>\n",
       "      <td>51.0</td>\n",
       "      <td>58.865278</td>\n",
       "      <td>26.952222</td>\n",
       "      <td>462.0</td>\n",
       "    </tr>\n",
       "    <tr>\n",
       "      <th>600577</th>\n",
       "      <td>2018</td>\n",
       "      <td>6</td>\n",
       "      <td>6</td>\n",
       "      <td>7</td>\n",
       "      <td>12.4</td>\n",
       "      <td>2.1</td>\n",
       "      <td>48.0</td>\n",
       "      <td>58.865278</td>\n",
       "      <td>26.952222</td>\n",
       "      <td>576.0</td>\n",
       "    </tr>\n",
       "  </tbody>\n",
       "</table>\n",
       "<p>600578 rows × 10 columns</p>\n",
       "</div>"
      ],
      "text/plain": [
       "           y  m   d  time  temp  wind_speed  rel_humidity       locX  \\\n",
       "0       2010  4  14    12   9.7         2.9          38.0  59.398055   \n",
       "1       2010  4  14    13  10.2         2.3          38.0  59.398055   \n",
       "2       2010  4  14    14   9.7         2.1          43.0  59.398055   \n",
       "3       2010  4  14    15  10.4         1.7          42.0  59.398055   \n",
       "4       2010  4  14    16   9.5         2.2          46.0  59.398055   \n",
       "...      ... ..  ..   ...   ...         ...           ...        ...   \n",
       "600573  2018  6   6     3   6.7         1.8          71.0  58.865278   \n",
       "600574  2018  6   6     4   7.0         1.5          72.0  58.865278   \n",
       "600575  2018  6   6     5  10.6         1.8          61.0  58.865278   \n",
       "600576  2018  6   6     6  11.4         2.6          51.0  58.865278   \n",
       "600577  2018  6   6     7  12.4         2.1          48.0  58.865278   \n",
       "\n",
       "             locY  intensity  \n",
       "0       24.602778      603.0  \n",
       "1       24.602778      540.0  \n",
       "2       24.602778      441.0  \n",
       "3       24.602778      319.0  \n",
       "4       24.602778      189.0  \n",
       "...           ...        ...  \n",
       "600573  26.952222       73.0  \n",
       "600574  26.952222      132.0  \n",
       "600575  26.952222      322.0  \n",
       "600576  26.952222      462.0  \n",
       "600577  26.952222      576.0  \n",
       "\n",
       "[600578 rows x 10 columns]"
      ]
     },
     "execution_count": 26,
     "metadata": {},
     "output_type": "execute_result"
    }
   ],
   "source": [
    "data"
   ]
  },
  {
   "cell_type": "code",
   "execution_count": 27,
   "metadata": {},
   "outputs": [],
   "source": [
    "x = data[['m', 'd', 'time', 'temp', 'wind_speed', \"rel_humidity\", 'locX', 'locY']]\n",
    "y = data[['intensity']]"
   ]
  },
  {
   "cell_type": "code",
   "execution_count": 28,
   "metadata": {},
   "outputs": [],
   "source": [
    "scaler = StandardScaler()\n",
    "x_scaled = scaler.fit_transform(x)"
   ]
  },
  {
   "cell_type": "code",
   "execution_count": 29,
   "metadata": {},
   "outputs": [],
   "source": [
    "x_train, x_val_test, y_train, y_val_test = train_test_split(x, y, test_size = 0.3, random_state = 111)\n",
    "x_val, x_test, y_val, y_test = train_test_split(x_val_test, y_val_test, test_size = 0.3)"
   ]
  },
  {
   "cell_type": "code",
   "execution_count": 30,
   "metadata": {},
   "outputs": [],
   "source": [
    "x_train_scaled, x_val_test_scaled, y_train, y_val_test = train_test_split(x_scaled, y, test_size = 0.3, random_state = 111)\n",
    "x_val_scaled, x_test_scaled, y_val, y_test = train_test_split(x_val_test_scaled, y_val_test, test_size = 0.3)"
   ]
  },
  {
   "cell_type": "code",
   "execution_count": 31,
   "metadata": {},
   "outputs": [],
   "source": [
    "from sklearn.neighbors import KNeighborsRegressor\n",
    "from sklearn.metrics import mean_squared_error\n",
    "from sklearn.metrics import mean_absolute_error"
   ]
  },
  {
   "cell_type": "code",
   "execution_count": 32,
   "metadata": {},
   "outputs": [
    {
     "data": {
      "text/plain": [
       "KNeighborsRegressor()"
      ]
     },
     "execution_count": 32,
     "metadata": {},
     "output_type": "execute_result"
    }
   ],
   "source": [
    "knn = KNeighborsRegressor()\n",
    "knn.fit(x_train, y_train)"
   ]
  },
  {
   "cell_type": "code",
   "execution_count": 36,
   "metadata": {},
   "outputs": [
    {
     "data": {
      "text/plain": [
       "KNeighborsRegressor()"
      ]
     },
     "execution_count": 36,
     "metadata": {},
     "output_type": "execute_result"
    }
   ],
   "source": [
    "knn_scaled = KNeighborsRegressor()\n",
    "knn_scaled.fit(x_train_scaled, y_train)"
   ]
  },
  {
   "cell_type": "code",
   "execution_count": 38,
   "metadata": {},
   "outputs": [],
   "source": [
    "mse = mean_squared_error(y_val, knn.predict(x_val))\n",
    "rmse = mean_squared_error(y_val, knn.predict(x_val), squared = False)\n",
    "mae = mean_absolute_error(y_val, knn.predict(x_val))"
   ]
  },
  {
   "cell_type": "code",
   "execution_count": 39,
   "metadata": {},
   "outputs": [
    {
     "name": "stdout",
     "output_type": "stream",
     "text": [
      "Mean squared error is 73631.25536968466, root mean squared error is 271.3507976212428 and mean absolute error is 175.82699788298538!\n"
     ]
    }
   ],
   "source": [
    "print(f'Mean squared error is {mse}, root mean squared error is {rmse} and mean absolute error is {mae}!')"
   ]
  },
  {
   "cell_type": "code",
   "execution_count": 40,
   "metadata": {},
   "outputs": [],
   "source": [
    "mse_scaled = mean_squared_error(y_val, knn_scaled.predict(x_val_scaled))\n",
    "rmse_scaled = mean_squared_error(y_val, knn_scaled.predict(x_val_scaled), squared = False)\n",
    "mae_scaled = mean_absolute_error(y_val, knn_scaled.predict(x_val_scaled))"
   ]
  },
  {
   "cell_type": "code",
   "execution_count": 41,
   "metadata": {},
   "outputs": [
    {
     "name": "stdout",
     "output_type": "stream",
     "text": [
      "With scaled values: Mean squared error is 4614.943342980155, root mean squared error is 67.9333742940843 and mean absolute error is 34.33876673987678!\n"
     ]
    }
   ],
   "source": [
    "print(f'With scaled values: Mean squared error is {mse_scaled}, root mean squared error is {rmse_scaled} and mean absolute error is {mae_scaled}!')"
   ]
  },
  {
   "cell_type": "code",
   "execution_count": 42,
   "metadata": {},
   "outputs": [],
   "source": [
    "from sklearn.neural_network import MLPRegressor"
   ]
  },
  {
   "cell_type": "code",
   "execution_count": 43,
   "metadata": {},
   "outputs": [
    {
     "name": "stderr",
     "output_type": "stream",
     "text": [
      "C:\\Users\\herma\\Anaconda3\\lib\\site-packages\\sklearn\\utils\\validation.py:72: DataConversionWarning: A column-vector y was passed when a 1d array was expected. Please change the shape of y to (n_samples, ), for example using ravel().\n",
      "  return f(**kwargs)\n"
     ]
    },
    {
     "data": {
      "text/plain": [
       "MLPRegressor()"
      ]
     },
     "execution_count": 43,
     "metadata": {},
     "output_type": "execute_result"
    }
   ],
   "source": [
    "mlp = MLPRegressor()\n",
    "mlp.fit(x_train, y_train)"
   ]
  },
  {
   "cell_type": "code",
   "execution_count": 44,
   "metadata": {},
   "outputs": [],
   "source": [
    "from sklearn.tree import DecisionTreeRegressor\n",
    "from sklearn.ensemble import RandomForestRegressor"
   ]
  },
  {
   "cell_type": "code",
   "execution_count": 45,
   "metadata": {},
   "outputs": [],
   "source": [
    "tree_model = DecisionTreeRegressor()\n",
    "rf_model = RandomForestRegressor()"
   ]
  },
  {
   "cell_type": "code",
   "execution_count": 46,
   "metadata": {},
   "outputs": [
    {
     "name": "stderr",
     "output_type": "stream",
     "text": [
      "C:\\Users\\herma\\Anaconda3\\lib\\site-packages\\ipykernel_launcher.py:2: DataConversionWarning: A column-vector y was passed when a 1d array was expected. Please change the shape of y to (n_samples,), for example using ravel().\n",
      "  \n"
     ]
    },
    {
     "data": {
      "text/plain": [
       "RandomForestRegressor()"
      ]
     },
     "execution_count": 46,
     "metadata": {},
     "output_type": "execute_result"
    }
   ],
   "source": [
    "tree_model.fit(x_train, y_train)\n",
    "rf_model.fit(x_train, y_train)"
   ]
  },
  {
   "cell_type": "code",
   "execution_count": 47,
   "metadata": {},
   "outputs": [],
   "source": [
    "mse_tree = mean_squared_error(y_val, tree_model.predict(x_val))\n",
    "rmse_tree = mean_squared_error(y_val, tree_model.predict(x_val), squared = False)\n",
    "mae_tree = mean_absolute_error(y_val, tree_model.predict(x_val))\n",
    "\n",
    "mse_rf = mean_squared_error(y_val, rf_model.predict(x_val))\n",
    "rmse_rf = mean_squared_error(y_val, rf_model.predict(x_val), squared = False)\n",
    "mae_rf = mean_absolute_error(y_val, rf_model.predict(x_val))"
   ]
  },
  {
   "cell_type": "code",
   "execution_count": 48,
   "metadata": {},
   "outputs": [
    {
     "name": "stdout",
     "output_type": "stream",
     "text": [
      "mse_tree: 77923.3919351258, rmse_tree: 279.147616746276, mae_tree: 177.81129629482797 \n",
      "mse_rf: 73657.71649364193, rmse_rf: 271.3995513880632, mae_rf: 175.6202151669542\n"
     ]
    }
   ],
   "source": [
    "print(f'mse_tree: {mse_tree}, rmse_tree: {rmse_tree}, mae_tree: {mae_tree} \\nmse_rf: {mse_rf}, rmse_rf: {rmse_rf}, mae_rf: {mae_rf}')"
   ]
  },
  {
   "cell_type": "code",
   "execution_count": null,
   "metadata": {},
   "outputs": [],
   "source": []
  }
 ],
 "metadata": {
  "kernelspec": {
   "display_name": "Python 3",
   "language": "python",
   "name": "python3"
  },
  "language_info": {
   "codemirror_mode": {
    "name": "ipython",
    "version": 3
   },
   "file_extension": ".py",
   "mimetype": "text/x-python",
   "name": "python",
   "nbconvert_exporter": "python",
   "pygments_lexer": "ipython3",
   "version": "3.7.3"
  }
 },
 "nbformat": 4,
 "nbformat_minor": 4
}
